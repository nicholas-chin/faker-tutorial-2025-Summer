{
 "cells": [
  {
   "cell_type": "markdown",
   "metadata": {
    "application/vnd.databricks.v1+cell": {
     "cellMetadata": {
      "byteLimit": 2048000,
      "rowLimit": 10000
     },
     "inputWidgets": {},
     "nuid": "617e2df0-0acc-4787-96c2-06dc2e2d9358",
     "showTitle": false,
     "tableResultSettingsMap": {},
     "title": ""
    }
   },
   "source": [
    "## Documentation\n",
    "- https://github.com/sdv-dev/SDV"
   ]
  },
  {
   "cell_type": "code",
   "execution_count": 0,
   "metadata": {
    "application/vnd.databricks.v1+cell": {
     "cellMetadata": {
      "byteLimit": 2048000,
      "rowLimit": 10000
     },
     "inputWidgets": {},
     "nuid": "99fe1d29-c771-44d8-9010-f5496b7d01cc",
     "showTitle": false,
     "tableResultSettingsMap": {},
     "title": ""
    }
   },
   "outputs": [
    {
     "output_type": "stream",
     "name": "stdout",
     "output_type": "stream",
     "text": [
      "Collecting sdv\n  Downloading sdv-1.26.0-py3-none-any.whl.metadata (14 kB)\nRequirement already satisfied: boto3<2.0.0,>=1.28 in /databricks/python3/lib/python3.12/site-packages (from sdv) (1.34.69)\nRequirement already satisfied: botocore<2.0.0,>=1.31 in /databricks/python3/lib/python3.12/site-packages (from sdv) (1.34.69)\nRequirement already satisfied: cloudpickle>=2.1.0 in /databricks/python3/lib/python3.12/site-packages (from sdv) (3.0.0)\nCollecting graphviz>=0.13.2 (from sdv)\n  Downloading graphviz-0.21-py3-none-any.whl.metadata (12 kB)\nRequirement already satisfied: numpy>=1.26.0 in /databricks/python3/lib/python3.12/site-packages (from sdv) (1.26.4)\nCollecting pandas>=2.1.1 (from sdv)\n  Downloading pandas-2.3.2-cp312-cp312-manylinux_2_17_aarch64.manylinux2014_aarch64.whl.metadata (91 kB)\nCollecting tqdm>=4.29 (from sdv)\n  Downloading tqdm-4.67.1-py3-none-any.whl.metadata (57 kB)\nCollecting copulas>=0.12.1 (from sdv)\n  Downloading copulas-0.12.3-py3-none-any.whl.metadata (9.5 kB)\nCollecting ctgan>=0.11.0 (from sdv)\n  Downloading ctgan-0.11.0-py3-none-any.whl.metadata (10 kB)\nCollecting deepecho>=0.7.0 (from sdv)\n  Downloading deepecho-0.7.0-py3-none-any.whl.metadata (10 kB)\nCollecting rdt>=1.17.0 (from sdv)\n  Downloading rdt-1.18.0-py3-none-any.whl.metadata (10 kB)\nCollecting sdmetrics>=0.21.0 (from sdv)\n  Downloading sdmetrics-0.23.0-py3-none-any.whl.metadata (9.4 kB)\nCollecting platformdirs>=4.0 (from sdv)\n  Downloading platformdirs-4.4.0-py3-none-any.whl.metadata (12 kB)\nRequirement already satisfied: pyyaml>=6.0.1 in /databricks/python3/lib/python3.12/site-packages (from sdv) (6.0.1)\nRequirement already satisfied: jmespath<2.0.0,>=0.7.1 in /databricks/python3/lib/python3.12/site-packages (from boto3<2.0.0,>=1.28->sdv) (1.0.1)\nRequirement already satisfied: s3transfer<0.11.0,>=0.10.0 in /databricks/python3/lib/python3.12/site-packages (from boto3<2.0.0,>=1.28->sdv) (0.10.4)\nRequirement already satisfied: python-dateutil<3.0.0,>=2.1 in /databricks/python3/lib/python3.12/site-packages (from botocore<2.0.0,>=1.31->sdv) (2.9.0.post0)\nRequirement already satisfied: urllib3!=2.2.0,<3,>=1.25.4 in /databricks/python3/lib/python3.12/site-packages (from botocore<2.0.0,>=1.31->sdv) (2.2.2)\nRequirement already satisfied: plotly>=5.10.0 in /databricks/python3/lib/python3.12/site-packages (from copulas>=0.12.1->sdv) (5.22.0)\nRequirement already satisfied: scipy>=1.12.0 in /databricks/python3/lib/python3.12/site-packages (from copulas>=0.12.1->sdv) (1.13.1)\nCollecting torch>=2.2.0 (from ctgan>=0.11.0->sdv)\n  Downloading torch-2.8.0-cp312-cp312-manylinux_2_28_aarch64.whl.metadata (30 kB)\nRequirement already satisfied: pytz>=2020.1 in /databricks/python3/lib/python3.12/site-packages (from pandas>=2.1.1->sdv) (2024.1)\nRequirement already satisfied: tzdata>=2022.7 in /databricks/python3/lib/python3.12/site-packages (from pandas>=2.1.1->sdv) (2024.1)\nRequirement already satisfied: scikit-learn>=1.3.1 in /databricks/python3/lib/python3.12/site-packages (from rdt>=1.17.0->sdv) (1.4.2)\nCollecting Faker>=17 (from rdt>=1.17.0->sdv)\n  Downloading faker-37.6.0-py3-none-any.whl.metadata (15 kB)\nRequirement already satisfied: tenacity>=6.2.0 in /databricks/python3/lib/python3.12/site-packages (from plotly>=5.10.0->copulas>=0.12.1->sdv) (8.2.2)\nRequirement already satisfied: packaging in /databricks/python3/lib/python3.12/site-packages (from plotly>=5.10.0->copulas>=0.12.1->sdv) (24.1)\nRequirement already satisfied: six>=1.5 in /usr/lib/python3/dist-packages (from python-dateutil<3.0.0,>=2.1->botocore<2.0.0,>=1.31->sdv) (1.16.0)\nRequirement already satisfied: joblib>=1.2.0 in /databricks/python3/lib/python3.12/site-packages (from scikit-learn>=1.3.1->rdt>=1.17.0->sdv) (1.4.2)\nRequirement already satisfied: threadpoolctl>=2.0.0 in /databricks/python3/lib/python3.12/site-packages (from scikit-learn>=1.3.1->rdt>=1.17.0->sdv) (2.2.0)\nRequirement already satisfied: filelock in /usr/local/lib/python3.12/dist-packages (from torch>=2.2.0->ctgan>=0.11.0->sdv) (3.15.4)\nRequirement already satisfied: typing-extensions>=4.10.0 in /databricks/python3/lib/python3.12/site-packages (from torch>=2.2.0->ctgan>=0.11.0->sdv) (4.11.0)\nRequirement already satisfied: setuptools in /usr/local/lib/python3.12/dist-packages (from torch>=2.2.0->ctgan>=0.11.0->sdv) (75.8.0)\nCollecting sympy>=1.13.3 (from torch>=2.2.0->ctgan>=0.11.0->sdv)\n  Downloading sympy-1.14.0-py3-none-any.whl.metadata (12 kB)\nCollecting networkx (from torch>=2.2.0->ctgan>=0.11.0->sdv)\n  Downloading networkx-3.5-py3-none-any.whl.metadata (6.3 kB)\nCollecting jinja2 (from torch>=2.2.0->ctgan>=0.11.0->sdv)\n  Downloading jinja2-3.1.6-py3-none-any.whl.metadata (2.9 kB)\nCollecting fsspec (from torch>=2.2.0->ctgan>=0.11.0->sdv)\n  Downloading fsspec-2025.9.0-py3-none-any.whl.metadata (10 kB)\nCollecting mpmath<1.4,>=1.1.0 (from sympy>=1.13.3->torch>=2.2.0->ctgan>=0.11.0->sdv)\n  Downloading mpmath-1.3.0-py3-none-any.whl.metadata (8.6 kB)\nCollecting MarkupSafe>=2.0 (from jinja2->torch>=2.2.0->ctgan>=0.11.0->sdv)\n  Downloading MarkupSafe-3.0.2-cp312-cp312-manylinux_2_17_aarch64.manylinux2014_aarch64.whl.metadata (4.0 kB)\nDownloading sdv-1.26.0-py3-none-any.whl (185 kB)\nDownloading copulas-0.12.3-py3-none-any.whl (52 kB)\nDownloading ctgan-0.11.0-py3-none-any.whl (24 kB)\nDownloading deepecho-0.7.0-py3-none-any.whl (27 kB)\nDownloading graphviz-0.21-py3-none-any.whl (47 kB)\nDownloading pandas-2.3.2-cp312-cp312-manylinux_2_17_aarch64.manylinux2014_aarch64.whl (11.3 MB)\n\u001B[?25l   \u001B[90m━━━━━━━━━━━━━━━━━━━━━━━━━━━━━━━━━━━━━━━━\u001B[0m \u001B[32m0.0/11.3 MB\u001B[0m \u001B[31m?\u001B[0m eta \u001B[36m-:--:--\u001B[0m\r\u001B[2K   \u001B[91m━━━━━━━\u001B[0m\u001B[90m╺\u001B[0m\u001B[90m━━━━━━━━━━━━━━━━━━━━━━━━━━━━━━━━\u001B[0m \u001B[32m2.1/11.3 MB\u001B[0m \u001B[31m11.9 MB/s\u001B[0m eta \u001B[36m0:00:01\u001B[0m\r\u001B[2K   \u001B[91m━━━━━━━━━━━━━━━━━━━━━\u001B[0m\u001B[90m╺\u001B[0m\u001B[90m━━━━━━━━━━━━━━━━━━\u001B[0m \u001B[32m6.0/11.3 MB\u001B[0m \u001B[31m15.4 MB/s\u001B[0m eta \u001B[36m0:00:01\u001B[0m\r\u001B[2K   \u001B[91m━━━━━━━━━━━━━━━━━━━━━━━━━━━━━━━━━━━━━━━\u001B[0m\u001B[91m╸\u001B[0m \u001B[32m11.3/11.3 MB\u001B[0m \u001B[31m19.6 MB/s\u001B[0m eta \u001B[36m0:00:01\u001B[0m\r\u001B[2K   \u001B[90m━━━━━━━━━━━━━━━━━━━━━━━━━━━━━━━━━━━━━━━━\u001B[0m \u001B[32m11.3/11.3 MB\u001B[0m \u001B[31m16.1 MB/s\u001B[0m eta \u001B[36m0:00:00\u001B[0m\n\u001B[?25hDownloading platformdirs-4.4.0-py3-none-any.whl (18 kB)\nDownloading rdt-1.18.0-py3-none-any.whl (74 kB)\nDownloading sdmetrics-0.23.0-py3-none-any.whl (198 kB)\nDownloading tqdm-4.67.1-py3-none-any.whl (78 kB)\nDownloading faker-37.6.0-py3-none-any.whl (1.9 MB)\n\u001B[?25l   \u001B[90m━━━━━━━━━━━━━━━━━━━━━━━━━━━━━━━━━━━━━━━━\u001B[0m \u001B[32m0.0/1.9 MB\u001B[0m \u001B[31m?\u001B[0m eta \u001B[36m-:--:--\u001B[0m\r\u001B[2K   \u001B[90m━━━━━━━━━━━━━━━━━━━━━━━━━━━━━━━━━━━━━━━━\u001B[0m \u001B[32m1.9/1.9 MB\u001B[0m \u001B[31m50.9 MB/s\u001B[0m eta \u001B[36m0:00:00\u001B[0m\n\u001B[?25hDownloading torch-2.8.0-cp312-cp312-manylinux_2_28_aarch64.whl (101.9 MB)\n\u001B[?25l   \u001B[90m━━━━━━━━━━━━━━━━━━━━━━━━━━━━━━━━━━━━━━━━\u001B[0m \u001B[32m0.0/101.9 MB\u001B[0m \u001B[31m?\u001B[0m eta \u001B[36m-:--:--\u001B[0m\r\u001B[2K   \u001B[91m━━━━━━━\u001B[0m\u001B[91m╸\u001B[0m\u001B[90m━━━━━━━━━━━━━━━━━━━━━━━━━━━━━━━━\u001B[0m \u001B[32m20.2/101.9 MB\u001B[0m \u001B[31m101.5 MB/s\u001B[0m eta \u001B[36m0:00:01\u001B[0m\r\u001B[2K   \u001B[91m━━━━━━━━━━━━━━━━━\u001B[0m\u001B[90m╺\u001B[0m\u001B[90m━━━━━━━━━━━━━━━━━━━━━━\u001B[0m \u001B[32m44.0/101.9 MB\u001B[0m \u001B[31m110.7 MB/s\u001B[0m eta \u001B[36m0:00:01\u001B[0m\r\u001B[2K   \u001B[91m━━━━━━━━━━━━━━━━━━━━━━\u001B[0m\u001B[90m╺\u001B[0m\u001B[90m━━━━━━━━━━━━━━━━━\u001B[0m \u001B[32m56.9/101.9 MB\u001B[0m \u001B[31m93.4 MB/s\u001B[0m eta \u001B[36m0:00:01\u001B[0m\r\u001B[2K   \u001B[91m━━━━━━━━━━━━━━━━━━━━━━━━\u001B[0m\u001B[90m╺\u001B[0m\u001B[90m━━━━━━━━━━━━━━━\u001B[0m \u001B[32m62.4/101.9 MB\u001B[0m \u001B[31m76.8 MB/s\u001B[0m eta \u001B[36m0:00:01\u001B[0m\r\u001B[2K   \u001B[91m━━━━━━━━━━━━━━━━━━━━━━━━━━━━━\u001B[0m\u001B[90m╺\u001B[0m\u001B[90m━━━━━━━━━━\u001B[0m \u001B[32m74.7/101.9 MB\u001B[0m \u001B[31m73.2 MB/s\u001B[0m eta \u001B[36m0:00:01\u001B[0m\r\u001B[2K   \u001B[91m━━━━━━━━━━━━━━━━━━━━━━━━━━━━━━━━━\u001B[0m\u001B[90m╺\u001B[0m\u001B[90m━━━━━━\u001B[0m \u001B[32m85.2/101.9 MB\u001B[0m \u001B[31m71.1 MB/s\u001B[0m eta \u001B[36m0:00:01\u001B[0m\r\u001B[2K   \u001B[91m━━━━━━━━━━━━━━━━━━━━━━━━━━━━━━━━━━━━━━━\u001B[0m\u001B[91m╸\u001B[0m \u001B[32m100.7/101.9 MB\u001B[0m \u001B[31m70.3 MB/s\u001B[0m eta \u001B[36m0:00:01\u001B[0m\r\u001B[2K   \u001B[91m━━━━━━━━━━━━━━━━━━━━━━━━━━━━━━━━━━━━━━━\u001B[0m\u001B[91m╸\u001B[0m \u001B[32m101.7/101.9 MB\u001B[0m \u001B[31m69.3 MB/s\u001B[0m eta \u001B[36m0:00:01\u001B[0m\r\u001B[2K   \u001B[91m━━━━━━━━━━━━━━━━━━━━━━━━━━━━━━━━━━━━━━━\u001B[0m\u001B[91m╸\u001B[0m \u001B[32m101.7/101.9 MB\u001B[0m \u001B[31m69.3 MB/s\u001B[0m eta \u001B[36m0:00:01\u001B[0m\r\u001B[2K   \u001B[90m━━━━━━━━━━━━━━━━━━━━━━━━━━━━━━━━━━━━━━━━\u001B[0m \u001B[32m101.9/101.9 MB\u001B[0m \u001B[31m49.9 MB/s\u001B[0m eta \u001B[36m0:00:00\u001B[0m\n\u001B[?25hDownloading sympy-1.14.0-py3-none-any.whl (6.3 MB)\n\u001B[?25l   \u001B[90m━━━━━━━━━━━━━━━━━━━━━━━━━━━━━━━━━━━━━━━━\u001B[0m \u001B[32m0.0/6.3 MB\u001B[0m \u001B[31m?\u001B[0m eta \u001B[36m-:--:--\u001B[0m\r\u001B[2K   \u001B[90m━━━━━━━━━━━━━━━━━━━━━━━━━━━━━━━━━━━━━━━━\u001B[0m \u001B[32m6.3/6.3 MB\u001B[0m \u001B[31m56.0 MB/s\u001B[0m eta \u001B[36m0:00:00\u001B[0m\n\u001B[?25hDownloading fsspec-2025.9.0-py3-none-any.whl (199 kB)\nDownloading jinja2-3.1.6-py3-none-any.whl (134 kB)\nDownloading networkx-3.5-py3-none-any.whl (2.0 MB)\n\u001B[?25l   \u001B[90m━━━━━━━━━━━━━━━━━━━━━━━━━━━━━━━━━━━━━━━━\u001B[0m \u001B[32m0.0/2.0 MB\u001B[0m \u001B[31m?\u001B[0m eta \u001B[36m-:--:--\u001B[0m\r\u001B[2K   \u001B[90m━━━━━━━━━━━━━━━━━━━━━━━━━━━━━━━━━━━━━━━━\u001B[0m \u001B[32m2.0/2.0 MB\u001B[0m \u001B[31m69.5 MB/s\u001B[0m eta \u001B[36m0:00:00\u001B[0m\n\u001B[?25hDownloading MarkupSafe-3.0.2-cp312-cp312-manylinux_2_17_aarch64.manylinux2014_aarch64.whl (24 kB)\nDownloading mpmath-1.3.0-py3-none-any.whl (536 kB)\n\u001B[?25l   \u001B[90m━━━━━━━━━━━━━━━━━━━━━━━━━━━━━━━━━━━━━━━━\u001B[0m \u001B[32m0.0/536.2 kB\u001B[0m \u001B[31m?\u001B[0m eta \u001B[36m-:--:--\u001B[0m\r\u001B[2K   \u001B[90m━━━━━━━━━━━━━━━━━━━━━━━━━━━━━━━━━━━━━━━━\u001B[0m \u001B[32m536.2/536.2 kB\u001B[0m \u001B[31m25.1 MB/s\u001B[0m eta \u001B[36m0:00:00\u001B[0m\n\u001B[?25hInstalling collected packages: mpmath, tqdm, sympy, platformdirs, networkx, MarkupSafe, graphviz, fsspec, Faker, pandas, jinja2, torch, rdt, copulas, sdmetrics, deepecho, ctgan, sdv\n  Attempting uninstall: platformdirs\n    Found existing installation: platformdirs 3.10.0\n    Not uninstalling platformdirs at /databricks/python3/lib/python3.12/site-packages, outside environment /local_disk0/.ephemeral_nfs/envs/pythonEnv-0f40c6aa-3c96-476d-8ea9-892c45b071df\n    Can't uninstall 'platformdirs'. No files were found to uninstall.\n  Attempting uninstall: pandas\n    Found existing installation: pandas 1.5.3\n    Not uninstalling pandas at /databricks/python3/lib/python3.12/site-packages, outside environment /local_disk0/.ephemeral_nfs/envs/pythonEnv-0f40c6aa-3c96-476d-8ea9-892c45b071df\n    Can't uninstall 'pandas'. No files were found to uninstall.\nSuccessfully installed Faker-37.6.0 MarkupSafe-3.0.2 copulas-0.12.3 ctgan-0.11.0 deepecho-0.7.0 fsspec-2025.9.0 graphviz-0.21 jinja2-3.1.6 mpmath-1.3.0 networkx-3.5 pandas-2.3.2 platformdirs-4.4.0 rdt-1.18.0 sdmetrics-0.23.0 sdv-1.26.0 sympy-1.14.0 torch-2.8.0 tqdm-4.67.1\n\u001B[43mNote: you may need to restart the kernel using %restart_python or dbutils.library.restartPython() to use updated packages.\u001B[0m\n"
     ]
    }
   ],
   "source": [
    "%pip install sdv"
   ]
  },
  {
   "cell_type": "code",
   "execution_count": 0,
   "metadata": {
    "application/vnd.databricks.v1+cell": {
     "cellMetadata": {
      "byteLimit": 2048000,
      "rowLimit": 10000
     },
     "inputWidgets": {},
     "nuid": "a8035c8c-6905-4603-b474-de5f28c83837",
     "showTitle": false,
     "tableResultSettingsMap": {},
     "title": ""
    },
    "jupyter": {
     "outputs_hidden": true
    }
   },
   "outputs": [
    {
     "output_type": "stream",
     "name": "stderr",
     "output_type": "stream",
     "text": [
      "Exception ignored on calling ctypes callback function: <function _ThreadpoolInfo._find_modules_with_dl_iterate_phdr.<locals>.match_module_callback at 0xff57e0ff62a0>\nTraceback (most recent call last):\n  File \"/databricks/python/lib/python3.12/site-packages/threadpoolctl.py\", line 400, in match_module_callback\n    self._make_module_from_path(filepath)\n  File \"/databricks/python/lib/python3.12/site-packages/threadpoolctl.py\", line 515, in _make_module_from_path\n    module = module_class(filepath, prefix, user_api, internal_api)\n             ^^^^^^^^^^^^^^^^^^^^^^^^^^^^^^^^^^^^^^^^^^^^^^^^^^^^^^\n  File \"/databricks/python/lib/python3.12/site-packages/threadpoolctl.py\", line 606, in __init__\n    self.version = self.get_version()\n                   ^^^^^^^^^^^^^^^^^^\n  File \"/databricks/python/lib/python3.12/site-packages/threadpoolctl.py\", line 646, in get_version\n    config = get_config().split()\n             ^^^^^^^^^^^^^^^^^^\nAttributeError: 'NoneType' object has no attribute 'split'\n"
     ]
    }
   ],
   "source": [
    "from sdv.datasets.demo import download_demo\n",
    "\n",
    "real_data, metadata = download_demo(\n",
    "    modality='single_table',\n",
    "    dataset_name='fake_hotel_guests'\n",
    ")"
   ]
  },
  {
   "cell_type": "code",
   "execution_count": 0,
   "metadata": {
    "application/vnd.databricks.v1+cell": {
     "cellMetadata": {
      "byteLimit": 2048000,
      "rowLimit": 10000
     },
     "inputWidgets": {},
     "nuid": "487d179c-0747-439e-b12b-86a121a3a709",
     "showTitle": false,
     "tableResultSettingsMap": {},
     "title": ""
    }
   },
   "outputs": [
    {
     "output_type": "display_data",
     "data": {
      "text/html": [
       "<style scoped>\n",
       "  .table-result-container {\n",
       "    max-height: 300px;\n",
       "    overflow: auto;\n",
       "  }\n",
       "  table, th, td {\n",
       "    border: 1px solid black;\n",
       "    border-collapse: collapse;\n",
       "  }\n",
       "  th, td {\n",
       "    padding: 5px;\n",
       "  }\n",
       "  th {\n",
       "    text-align: left;\n",
       "  }\n",
       "</style><div class='table-result-container'><table class='table-result'><thead style='background-color: white'><tr><th>guest_email</th><th>has_rewards</th><th>room_type</th><th>amenities_fee</th><th>checkin_date</th><th>checkout_date</th><th>room_rate</th><th>billing_address</th><th>credit_card_number</th></tr></thead><tbody><tr><td>michaelsanders@shaw.net</td><td>false</td><td>BASIC</td><td>37.89</td><td>2020-12-27T00:00:00.000Z</td><td>2020-12-29T00:00:00.000Z</td><td>131.23</td><td>49380 Rivers Street\n",
       "Spencerville, AK 68265</td><td>4075084747483975747</td></tr><tr><td>randy49@brown.biz</td><td>false</td><td>BASIC</td><td>24.37</td><td>2020-12-30T00:00:00.000Z</td><td>2021-01-02T00:00:00.000Z</td><td>114.43</td><td>88394 Boyle Meadows\n",
       "Conleyberg, TN 22063</td><td>180072822063468</td></tr><tr><td>webermelissa@neal.com</td><td>true</td><td>DELUXE</td><td>0.0</td><td>2020-09-17T00:00:00.000Z</td><td>2020-09-18T00:00:00.000Z</td><td>368.33</td><td>0323 Lisa Station Apt. 208\n",
       "Port Thomas, LA 82585</td><td>38983476971380</td></tr><tr><td>gsims@terry.com</td><td>false</td><td>BASIC</td><td>null</td><td>2020-12-28T00:00:00.000Z</td><td>2020-12-31T00:00:00.000Z</td><td>115.61</td><td>77 Massachusetts Ave\n",
       "Cambridge, MA 02139</td><td>4969551998845740</td></tr><tr><td>misty33@smith.biz</td><td>false</td><td>BASIC</td><td>16.45</td><td>2020-04-05T00:00:00.000Z</td><td>null</td><td>122.41</td><td>1234 Corporate Drive\n",
       "Boston, MA 02116</td><td>3558512986488983</td></tr></tbody></table></div>"
      ]
     },
     "metadata": {
      "application/vnd.databricks.v1+output": {
       "addedWidgets": {},
       "aggData": [],
       "aggError": "",
       "aggOverflow": false,
       "aggSchema": [],
       "aggSeriesLimitReached": false,
       "aggType": "",
       "arguments": {},
       "columnCustomDisplayInfos": {},
       "data": [
        [
         "michaelsanders@shaw.net",
         false,
         "BASIC",
         37.89,
         "2020-12-27T00:00:00.000Z",
         "2020-12-29T00:00:00.000Z",
         131.23,
         "49380 Rivers Street\nSpencerville, AK 68265",
         4075084747483975747
        ],
        [
         "randy49@brown.biz",
         false,
         "BASIC",
         24.37,
         "2020-12-30T00:00:00.000Z",
         "2021-01-02T00:00:00.000Z",
         114.43,
         "88394 Boyle Meadows\nConleyberg, TN 22063",
         180072822063468
        ],
        [
         "webermelissa@neal.com",
         true,
         "DELUXE",
         0.0,
         "2020-09-17T00:00:00.000Z",
         "2020-09-18T00:00:00.000Z",
         368.33,
         "0323 Lisa Station Apt. 208\nPort Thomas, LA 82585",
         38983476971380
        ],
        [
         "gsims@terry.com",
         false,
         "BASIC",
         null,
         "2020-12-28T00:00:00.000Z",
         "2020-12-31T00:00:00.000Z",
         115.61,
         "77 Massachusetts Ave\nCambridge, MA 02139",
         4969551998845740
        ],
        [
         "misty33@smith.biz",
         false,
         "BASIC",
         16.45,
         "2020-04-05T00:00:00.000Z",
         null,
         122.41,
         "1234 Corporate Drive\nBoston, MA 02116",
         3558512986488983
        ]
       ],
       "datasetInfos": [],
       "dbfsResultPath": null,
       "isJsonSchema": true,
       "metadata": {},
       "overflow": false,
       "plotOptions": {
        "customPlotOptions": {},
        "displayType": "table",
        "pivotAggregation": null,
        "pivotColumns": null,
        "xColumns": null,
        "yColumns": null
       },
       "removedWidgets": [],
       "schema": [
        {
         "metadata": "{}",
         "name": "guest_email",
         "type": "\"string\""
        },
        {
         "metadata": "{}",
         "name": "has_rewards",
         "type": "\"boolean\""
        },
        {
         "metadata": "{}",
         "name": "room_type",
         "type": "\"string\""
        },
        {
         "metadata": "{}",
         "name": "amenities_fee",
         "type": "\"double\""
        },
        {
         "metadata": "{}",
         "name": "checkin_date",
         "type": "\"timestamp\""
        },
        {
         "metadata": "{}",
         "name": "checkout_date",
         "type": "\"timestamp\""
        },
        {
         "metadata": "{}",
         "name": "room_rate",
         "type": "\"double\""
        },
        {
         "metadata": "{}",
         "name": "billing_address",
         "type": "\"string\""
        },
        {
         "metadata": "{}",
         "name": "credit_card_number",
         "type": "\"long\""
        }
       ],
       "type": "table"
      }
     },
     "output_type": "display_data"
    }
   ],
   "source": [
    "display(real_data.head())"
   ]
  },
  {
   "cell_type": "code",
   "execution_count": 0,
   "metadata": {
    "application/vnd.databricks.v1+cell": {
     "cellMetadata": {
      "byteLimit": 2048000,
      "rowLimit": 10000
     },
     "inputWidgets": {},
     "nuid": "41c5e77f-e32f-41d1-b2b5-473fa2078899",
     "showTitle": false,
     "tableResultSettingsMap": {},
     "title": ""
    }
   },
   "outputs": [],
   "source": [
    "from sdv.single_table import GaussianCopulaSynthesizer\n",
    "\n",
    "synthesizer = GaussianCopulaSynthesizer(metadata)\n",
    "synthesizer.fit(data=real_data)"
   ]
  },
  {
   "cell_type": "code",
   "execution_count": 0,
   "metadata": {
    "application/vnd.databricks.v1+cell": {
     "cellMetadata": {
      "byteLimit": 2048000,
      "rowLimit": 10000
     },
     "inputWidgets": {},
     "nuid": "5546921e-ccc3-4b28-8e79-2431a61e4b77",
     "showTitle": false,
     "tableResultSettingsMap": {},
     "title": ""
    }
   },
   "outputs": [
    {
     "output_type": "display_data",
     "data": {
      "text/html": [
       "<style scoped>\n",
       "  .table-result-container {\n",
       "    max-height: 300px;\n",
       "    overflow: auto;\n",
       "  }\n",
       "  table, th, td {\n",
       "    border: 1px solid black;\n",
       "    border-collapse: collapse;\n",
       "  }\n",
       "  th, td {\n",
       "    padding: 5px;\n",
       "  }\n",
       "  th {\n",
       "    text-align: left;\n",
       "  }\n",
       "</style><div class='table-result-container'><table class='table-result'><thead style='background-color: white'><tr><th>guest_email</th><th>has_rewards</th><th>room_type</th><th>amenities_fee</th><th>checkin_date</th><th>checkout_date</th><th>room_rate</th><th>billing_address</th><th>credit_card_number</th></tr></thead><tbody><tr><td>cburns@example.com</td><td>false</td><td>SUITE</td><td>null</td><td>14 Jun 2020</td><td>23 Jun 2020</td><td>298.22</td><td>Unit 7909 Box 7283\n",
       "DPO AA 48458</td><td>30158284644887</td></tr><tr><td>jordanpamela@example.org</td><td>false</td><td>BASIC</td><td>0.04</td><td>26 Oct 2020</td><td>09 Nov 2020</td><td>244.69</td><td>0837 Stewart Pike Suite 951\n",
       "Port Zachary, IA 93867</td><td>4375705762878737</td></tr><tr><td>amanda33@example.org</td><td>false</td><td>DELUXE</td><td>35.96</td><td>10 Apr 2020</td><td>05 Apr 2020</td><td>176.64</td><td>24644 Pollard Burgs Apt. 192\n",
       "Sarahview, PA 78396</td><td>180027361090256</td></tr><tr><td>kellikirby@example.net</td><td>true</td><td>BASIC</td><td>0.36</td><td>17 Jan 2020</td><td>13 Jan 2020</td><td>165.55</td><td>69531 Edwards Islands Apt. 619\n",
       "New Hannah, PA 77217</td><td>4646760073726565</td></tr><tr><td>robertwatson@example.net</td><td>false</td><td>BASIC</td><td>3.68</td><td>17 Nov 2020</td><td>08 Nov 2020</td><td>105.74</td><td>14990 Melissa Bypass\n",
       "Lake Wyatt, KY 12447</td><td>4526613273846</td></tr></tbody></table></div>"
      ]
     },
     "metadata": {
      "application/vnd.databricks.v1+output": {
       "addedWidgets": {},
       "aggData": [],
       "aggError": "",
       "aggOverflow": false,
       "aggSchema": [],
       "aggSeriesLimitReached": false,
       "aggType": "",
       "arguments": {},
       "columnCustomDisplayInfos": {},
       "data": [
        [
         "cburns@example.com",
         false,
         "SUITE",
         null,
         "14 Jun 2020",
         "23 Jun 2020",
         298.22,
         "Unit 7909 Box 7283\nDPO AA 48458",
         30158284644887
        ],
        [
         "jordanpamela@example.org",
         false,
         "BASIC",
         0.04,
         "26 Oct 2020",
         "09 Nov 2020",
         244.69,
         "0837 Stewart Pike Suite 951\nPort Zachary, IA 93867",
         4375705762878737
        ],
        [
         "amanda33@example.org",
         false,
         "DELUXE",
         35.96,
         "10 Apr 2020",
         "05 Apr 2020",
         176.64,
         "24644 Pollard Burgs Apt. 192\nSarahview, PA 78396",
         180027361090256
        ],
        [
         "kellikirby@example.net",
         true,
         "BASIC",
         0.36,
         "17 Jan 2020",
         "13 Jan 2020",
         165.55,
         "69531 Edwards Islands Apt. 619\nNew Hannah, PA 77217",
         4646760073726565
        ],
        [
         "robertwatson@example.net",
         false,
         "BASIC",
         3.68,
         "17 Nov 2020",
         "08 Nov 2020",
         105.74,
         "14990 Melissa Bypass\nLake Wyatt, KY 12447",
         4526613273846
        ]
       ],
       "datasetInfos": [],
       "dbfsResultPath": null,
       "isJsonSchema": true,
       "metadata": {},
       "overflow": false,
       "plotOptions": {
        "customPlotOptions": {},
        "displayType": "table",
        "pivotAggregation": null,
        "pivotColumns": null,
        "xColumns": null,
        "yColumns": null
       },
       "removedWidgets": [],
       "schema": [
        {
         "metadata": "{}",
         "name": "guest_email",
         "type": "\"string\""
        },
        {
         "metadata": "{}",
         "name": "has_rewards",
         "type": "\"boolean\""
        },
        {
         "metadata": "{}",
         "name": "room_type",
         "type": "\"string\""
        },
        {
         "metadata": "{}",
         "name": "amenities_fee",
         "type": "\"double\""
        },
        {
         "metadata": "{}",
         "name": "checkin_date",
         "type": "\"string\""
        },
        {
         "metadata": "{}",
         "name": "checkout_date",
         "type": "\"string\""
        },
        {
         "metadata": "{}",
         "name": "room_rate",
         "type": "\"double\""
        },
        {
         "metadata": "{}",
         "name": "billing_address",
         "type": "\"string\""
        },
        {
         "metadata": "{}",
         "name": "credit_card_number",
         "type": "\"long\""
        }
       ],
       "type": "table"
      }
     },
     "output_type": "display_data"
    }
   ],
   "source": [
    "synthetic_data = synthesizer.sample(num_rows=500)\n",
    "display(synthetic_data.head())"
   ]
  },
  {
   "cell_type": "code",
   "execution_count": 0,
   "metadata": {
    "application/vnd.databricks.v1+cell": {
     "cellMetadata": {
      "byteLimit": 2048000,
      "rowLimit": 10000
     },
     "inputWidgets": {},
     "nuid": "96bca418-8009-4657-a9c0-e838b0c229c4",
     "showTitle": false,
     "tableResultSettingsMap": {},
     "title": ""
    }
   },
   "outputs": [
    {
     "output_type": "stream",
     "name": "stdout",
     "output_type": "stream",
     "text": [
      "Generating report ...\n\n\r|          | 0/9 [00:00<?, ?it/s]|\r(1/2) Evaluating Column Shapes: |          | 0/9 [00:00<?, ?it/s]|\r(1/2) Evaluating Column Shapes: |██████████| 9/9 [00:00<00:00, 667.01it/s]|\nColumn Shapes Score: 90.06%\n\n\r|          | 0/36 [00:00<?, ?it/s]|\r(2/2) Evaluating Column Pair Trends: |          | 0/36 [00:00<?, ?it/s]|\r(2/2) Evaluating Column Pair Trends: |███████▊  | 28/36 [00:00<00:00, 266.62it/s]|\r(2/2) Evaluating Column Pair Trends: |██████████| 36/36 [00:00<00:00, 285.18it/s]|\nColumn Pair Trends Score: 89.29%\n\nOverall Score (Average): 89.68%\n\n"
     ]
    }
   ],
   "source": [
    "from sdv.evaluation.single_table import evaluate_quality\n",
    "\n",
    "quality_report = evaluate_quality(\n",
    "    real_data,\n",
    "    synthetic_data,\n",
    "    metadata\n",
    ")"
   ]
  },
  {
   "cell_type": "code",
   "execution_count": 0,
   "metadata": {
    "application/vnd.databricks.v1+cell": {
     "cellMetadata": {
      "byteLimit": 2048000,
      "rowLimit": 10000
     },
     "inputWidgets": {},
     "nuid": "9b9b9230-c85e-4cc8-aba9-8560e2a06b38",
     "showTitle": false,
     "tableResultSettingsMap": {},
     "title": ""
    }
   },
   "outputs": [
    {
     "output_type": "display_data",
     "data": {
      "text/html": [
       "<html>\n",
       "<head><meta charset=\"utf-8\" /></head>\n",
       "<body>\n",
       "    <div>            <script src=\"https://cdnjs.cloudflare.com/ajax/libs/mathjax/2.7.5/MathJax.js?config=TeX-AMS-MML_SVG\"></script><script type=\"text/javascript\">if (window.MathJax && window.MathJax.Hub && window.MathJax.Hub.Config) {window.MathJax.Hub.Config({SVG: {font: \"STIX-Web\"}});}</script>                <script type=\"text/javascript\">window.PlotlyConfig = {MathJaxConfig: 'local'};</script>\n",
       "        <script charset=\"utf-8\" src=\"https://cdn.plot.ly/plotly-2.32.0.min.js\"></script>                <div id=\"e6caff40-083a-442a-a0ca-c949d09ff3bc\" class=\"plotly-graph-div\" style=\"height:100%; width:100%;\"></div>            <script type=\"text/javascript\">                                    window.PLOTLYENV=window.PLOTLYENV || {};                                    if (document.getElementById(\"e6caff40-083a-442a-a0ca-c949d09ff3bc\")) {                    Plotly.newPlot(                        \"e6caff40-083a-442a-a0ca-c949d09ff3bc\",                        [{\"legendgroup\":\"Real\",\"marker\":{\"color\":\"#000036\"},\"mode\":\"lines\",\"name\":\"Real\",\"showlegend\":true,\"x\":[0.0,0.09623999999999999,0.19247999999999998,0.28872,0.38495999999999997,0.48119999999999996,0.57744,0.67368,0.7699199999999999,0.8661599999999999,0.9623999999999999,1.0586399999999998,1.15488,1.2511199999999998,1.34736,1.4436,1.5398399999999999,1.63608,1.7323199999999999,1.82856,1.9247999999999998,2.02104,2.1172799999999996,2.21352,2.30976,2.406,2.5022399999999996,2.59848,2.69472,2.79096,2.8872,2.98344,3.0796799999999998,3.1759199999999996,3.27216,3.3684,3.4646399999999997,3.5608799999999996,3.65712,3.75336,3.8495999999999997,3.9458399999999996,4.04208,4.138319999999999,4.234559999999999,4.3308,4.42704,4.52328,4.61952,4.7157599999999995,4.812,4.90824,5.004479999999999,5.100719999999999,5.19696,5.2932,5.38944,5.4856799999999994,5.58192,5.67816,5.7744,5.87064,5.96688,6.06312,6.1593599999999995,6.255599999999999,6.351839999999999,6.44808,6.54432,6.64056,6.7368,6.83304,6.929279999999999,7.025519999999999,7.121759999999999,7.218,7.31424,7.41048,7.50672,7.60296,7.699199999999999,7.795439999999999,7.891679999999999,7.987919999999999,8.08416,8.180399999999999,8.276639999999999,8.372879999999999,8.469119999999998,8.565359999999998,8.6616,8.75784,8.85408,8.95032,9.04656,9.1428,9.23904,9.33528,9.431519999999999,9.52776,9.624,9.72024,9.81648,9.91272,10.008959999999998,10.105199999999998,10.201439999999998,10.29768,10.39392,10.49016,10.5864,10.68264,10.77888,10.875119999999999,10.971359999999999,11.067599999999999,11.16384,11.26008,11.35632,11.45256,11.5488,11.64504,11.74128,11.837519999999998,11.93376,12.03,12.12624,12.22248,12.318719999999999,12.414959999999999,12.511199999999999,12.607439999999999,12.703679999999999,12.79992,12.89616,12.9924,13.08864,13.18488,13.28112,13.37736,13.4736,13.569840000000001,13.66608,13.762319999999999,13.858559999999999,13.954799999999999,14.051039999999999,14.147279999999999,14.243519999999998,14.339759999999998,14.436,14.53224,14.62848,14.72472,14.82096,14.9172,15.01344,15.109679999999999,15.20592,15.30216,15.398399999999999,15.494639999999999,15.590879999999999,15.687119999999998,15.783359999999998,15.879599999999998,15.975839999999998,16.07208,16.16832,16.26456,16.360799999999998,16.45704,16.553279999999997,16.64952,16.745759999999997,16.842,16.938239999999997,17.03448,17.130719999999997,17.22696,17.3232,17.419439999999998,17.51568,17.611919999999998,17.70816,17.804399999999998,17.90064,17.996879999999997,18.09312,18.18936,18.2856,18.38184,18.47808,18.57432,18.67056,18.7668,18.863039999999998,18.95928,19.05552,19.15176,19.248,19.34424,19.44048,19.53672,19.63296,19.729200000000002,19.82544,19.921680000000002,20.017919999999997,20.11416,20.210399999999996,20.306639999999998,20.402879999999996,20.499119999999998,20.59536,20.691599999999998,20.78784,20.884079999999997,20.98032,21.076559999999997,21.1728,21.269039999999997,21.36528,21.46152,21.55776,21.654,21.750239999999998,21.84648,21.942719999999998,22.03896,22.135199999999998,22.23144,22.32768,22.42392,22.52016,22.6164,22.71264,22.80888,22.90512,23.001360000000002,23.0976,23.19384,23.29008,23.38632,23.48256,23.578799999999998,23.675039999999996,23.771279999999997,23.86752,23.963759999999997,24.06,24.156239999999997,24.25248,24.348719999999997,24.44496,24.541199999999996,24.637439999999998,24.73368,24.829919999999998,24.92616,25.022399999999998,25.11864,25.214879999999997,25.31112,25.407359999999997,25.5036,25.59984,25.69608,25.79232,25.88856,25.9848,26.081039999999998,26.17728,26.273519999999998,26.36976,26.466,26.56224,26.65848,26.75472,26.85096,26.9472,27.04344,27.139680000000002,27.235919999999997,27.33216,27.428399999999996,27.524639999999998,27.620879999999996,27.717119999999998,27.813359999999996,27.909599999999998,28.00584,28.102079999999997,28.19832,28.294559999999997,28.3908,28.487039999999997,28.58328,28.679519999999997,28.77576,28.872,28.968239999999998,29.06448,29.160719999999998,29.25696,29.353199999999998,29.44944,29.545679999999997,29.64192,29.73816,29.8344,29.93064,30.02688,30.12312,30.219359999999998,30.3156,30.41184,30.50808,30.60432,30.70056,30.796799999999998,30.893039999999996,30.989279999999997,31.085519999999995,31.181759999999997,31.278,31.374239999999997,31.47048,31.566719999999997,31.662959999999998,31.759199999999996,31.855439999999998,31.951679999999996,32.04792,32.14416,32.2404,32.33664,32.43288,32.52912,32.62535999999999,32.721599999999995,32.81784,32.91408,33.01032,33.106559999999995,33.202799999999996,33.29904,33.39528,33.491519999999994,33.587759999999996,33.684,33.78024,33.876479999999994,33.97272,34.06896,34.1652,34.26143999999999,34.35768,34.45392,34.55016,34.6464,34.74264,34.838879999999996,34.93512,35.03136,35.1276,35.223839999999996,35.320080000000004,35.41632,35.51256,35.608799999999995,35.705040000000004,35.80128,35.89752,35.993759999999995,36.09,36.18624,36.28247999999999,36.37872,36.474959999999996,36.5712,36.66743999999999,36.76368,36.859919999999995,36.95616,37.0524,37.14864,37.244879999999995,37.34112,37.43736,37.5336,37.629839999999994,37.726079999999996,37.82232,37.91856,38.014799999999994,38.11104,38.20728,38.30352,38.39975999999999,38.496,38.59224,38.68848,38.78472,38.88096,38.977199999999996,39.07344,39.16968,39.26592,39.362159999999996,39.458400000000005,39.55464,39.65088,39.747119999999995,39.843360000000004,39.9396,40.03583999999999,40.132079999999995,40.22832,40.32456,40.42079999999999,40.51704,40.613279999999996,40.70952,40.80575999999999,40.902,40.998239999999996,41.09448,41.19072,41.28696,41.383199999999995,41.47944,41.57568,41.67192,41.768159999999995,41.864399999999996,41.96064,42.05688,42.153119999999994,42.24936,42.3456,42.44184,42.538079999999994,42.63432,42.73056,42.8268,42.92304,43.01928,43.11552,43.21176,43.308,43.40424,43.500479999999996,43.59672,43.69296,43.789199999999994,43.885439999999996,43.98168,44.07792,44.17415999999999,44.270399999999995,44.36664,44.46288,44.55911999999999,44.65536,44.751599999999996,44.84784,44.94407999999999,45.04032,45.136559999999996,45.2328,45.32904,45.42528,45.521519999999995,45.61776,45.714,45.81024,45.906479999999995,46.002720000000004,46.09896,46.1952,46.291439999999994,46.38768,46.48392,46.58016,46.676399999999994,46.77264,46.86888,46.96512,47.06136,47.157599999999995,47.25384,47.35007999999999,47.44632,47.542559999999995,47.638799999999996,47.73504,47.83128,47.927519999999994,48.023759999999996],\"xaxis\":\"x\",\"y\":[0.01751157773273591,0.017604707809214807,0.017686940878632637,0.017758335777264003,0.01781898650545314,0.017869022004252135,0.01790860577819474,0.01793793536593227,0.017957241661334805,0.017966788088522048,0.01796686963511642,0.017957811748811302,0.017939969103106385,0.01791372423877729,0.017879486088314182,0.017837688391178445,0.017788788008281223,0.01773326314458758,0.01767161148917993,0.01760434828248519,0.017532004320669828,0.017455123907441288,0.017374262763658076,0.017289985905248162,0.017202865499964238,0.017113478713466954,0.017022405555125027,0.016930226733757103,0.016837521533316153,0.01674486571823651,0.016652829477829693,0.01656197541873223,0.016472856613980146,0.0163860147168162,0.016301978146828565,0.016221260355483987,0.016144358177552415,0.016071750274333954,0.016003895673993674,0.015941232413693406,0.015884176287583172,0.015833119704085633,0.01578843065527893,0.015750451800557688,0.015719499666138042,0.015695863961367254,0.01567980701221272,0.015671563311733763,0.015671339186793323,0.01567931257974184,0.015695632943307513,0.015720421246456364,0.015753770088545307,0.015795743918679432,0.015846379356805603,0.015905685612727004,0.015973644998907324,0.01605021353265047,0.016135321622989432,0.016228874837400115,0.016330754743264963,0.01644081981885591,0.016558906428474175,0.016684829856287234,0.016818385393326613,0.016959349472066343,0.017107480842976332,0.017262521787447735,0.017424199361509032,0.017592226664796,0.017766304129300966,0.01794612082250789,0.018131355759617447,0.018321679219680097,0.01851675406058175,0.018716237027968475,0.018919780053349676,0.01912703153678319,0.019337637609721056,0.01955124337377903,0.019767494111385557,0.01998603646446817,0.020206519577542152,0.02042859620178399,0.020651923756891205,0.020876165347759355,0.021100990733238754,0.021326077244470637,0.02155111065054269,0.021775785969451747,0.02199980822260557,0.02222289313135025,0.02244476775425915,0.022665171064177005,0.022883854464264504,0.0231005822425472,0.023315131964725063,0.02352729480525419,0.023736875816962273,0.023943694139709062,0.02414758314884712,0.024348390544478227,0.024545978382733567,0.024740223050536213,0.024931015185519035,0.025118259542985837,0.02530187481200135,0.025481793382886263,0.025657961068569074,0.025830336782412727,0.02599889217528214,0.0261636112347531,0.02632448984948403,0.02648153534187033,0.026634765972189584,0.026784210417506935,0.026929907228661294,0.027071904268679076,0.0272102581359704,0.027345033575652235,0.027476302882310823,0.027604145297466742,0.02772864640493299,0.027849897527170923,0.027967995125637773,0.028083040207996467,0.02819513774491469,0.028304396099023358,0.02841092646843003,0.028514842346997565,0.02861625900339906,0.02871529298075089,0.028812061618407797,0.028906682597278414,0.02899927350978775,0.02908995145538032,0.029178832662219007,0.029266032135500372,0.02935166333257279,0.029435837864811264,0.029518665225983554,0.02960025254662046,0.029680704373701367,0.02976012247476671,0.029838605665391333,0.029916249658780456,0.029993146936102135,0.03006938663603437,0.030145054461887755,0.030220232604571722,0.030294999679591882,0.030369430676212807,0.03044359691688699,0.030517566025034495,0.030591401899270287,0.03066516469220278,0.030738910791979653,0.0308126928048275,0.03088655953692221,0.030960555974036522,0.031034723257538182,0.031109098655453755,0.031183715527473378,0.03125860328293948,0.03133378733104738,0.031409289022676395,0.03148512558346931,0.03156131003798446,0.03163785112495207,0.031714753203877274,0.031792016153442,0.03186963526236314,0.03194760111356688,0.03202589946273432,0.03210451111245546,0.03218341178340648,0.032262571984123425,0.03234195688109331,0.03242152617101229,0.03250123395717284,0.03258102863203571,0.03266085276811191,0.03274064301933434,0.03282033003512437,0.03289983838936717,0.03297908652649016,0.033057986726801734,0.03313644509318022,0.03321436156111979,0.0332916299340295,0.03336813794555168,0.0334437673505137,0.033518394045956974,0.03359188822349711,0.03366411455406146,0.033734932405829914,0.03380419609596828,0.03387175517649633,0.033937454754376144,0.03400113584564235,0.03406263576312431,0.03412178853704211,0.03417842536747949,0.03423237510747008,0.03428346477516407,0.034331520093281304,0.03437636605380592,0.034417827505635316,0.03445572976266935,0.03448989922961111,0.03452016404255863,0.03454635472128401,0.034568304829947584,0.034585851642854375,0.03459883681175292,0.034607107031089275,0.03461051469756683,0.034608918560330104,0.03460218435807904,0.03459018543944179,0.034572803362975475,0.034549928473239774,0.03452146044948198,0.034487308823597906,0.03444739346417993,0.034401645023633326,0.03435000534553789,0.0342924278296437,0.03422887775212445,0.0341593325389628,0.03408378199060731,0.03400222845632157,0.03391468695693607,0.03382118525501442,0.03372176387175243,0.03361647605023932,0.03350538766502405,0.03338857707824557,0.03326613494289293,0.03313816395407024,0.03300477854944027,0.03286610456030948,0.032722278815097025,0.032573448697196576,0.032419771659488616,0.032261414697998404,0.03209855378740766,0.031931373281327585,0.031760065280416035,0.0315848289715762,0.03140586994160824,0.031223399468793177,0.0310376337959763,0.03084879338877927,0.030657102182611327,0.03046278682216352,0.03026607589706641,0.03006719917735906,0.029866386852370634,0.029663868776538295,0.029459873725600074,0.029254628666485077,0.029048358044098832,0.028841283088055652,0.02863362114225111,0.028425585019995172,0.02821738238724137,0.028009215176253918,0.027801279031848616,0.027593762792136472,0.02738684800547863,0.027180708485144558,0.02697550990294055,0.026771409422853307,0.02656855537552994,0.026367086974194424,0.0261671340723832,0.025968816963668578,0.025772246223330464,0.02557752259173517,0.025384736898987195,0.025193970030232285,0.025005292930814122,0.024818766650320536,0.024634442424396448,0.02445236179305577,0.024272556754088688,0.024095049950035634,0.02391985488708764,0.02374697618417015,0.023576409850377712,0.02340814358884842,0.023242157125099076,0.0230784225577857,0.02291690472980908,0.0227575616176492,0.02260034473678816,0.022445199561066817,0.02229206595381458,0.02214087860859672,0.021991567497436304,0.021844058324389508,0.021698272982383023,0.02155413001125986,0.021411545055024666,0.021270431316331877,0.02113070000631871,0.020992260787949964,0.02085502221111264,0.02071889213777541,0.02058377815560906,0.02044958797855219,0.02031622983289701,0.020183612827566526,0.020051647307354682,0.0199202451880031,0.019789320272097313,0.01965878854487295,0.019528568449136176,0.01939858113861648,0.019268750709187377,0.01913900440750637,0.019009272816747157,0.018879490019213446,0.018749593735744193,0.018619525441939313,0.018489230461351213,0.018358658035904307,0.01822776137391892,0.018096497676225964,0.017964828140968336,0.01783271794778774,0.01770013622219572,0.01756705598102312,0.017433454059929444,0.017299311024038495,0.017164611062841534,0.017029341870578748,0.016893494513371087,0.016757063284428452,0.01662004554870363,0.016482441578399187,0.016344254380759878,0.016205489519601813,0.016066154932037013,0.015926260741850475,0.015785819070976613,0.01564484385049991,0.015503350632575288,0.015361356404624415,0.01521887940711526,0.015075938956175266,0.014932555272224153,0.014788749315737896,0.014644542631177147,0.014499957200025093,0.014355015303788545,0.014209739397717637,0.014064151995898307,0.013918275568264998,0.013772132449974658,0.013625744763471165,0.013479134353459763,0.013332322734899212,0.01318533105400955,0.013038180062184547,0.01289089010259213,0.012743481109143215,0.012595972617411423,0.012448383786991566,0.012300733434698258,0.012153040077923095,0.01200532198739473,0.011857597248518282,0.011709883830411353,0.01156219966170156,0.011414562712108585,0.011266991078797988,0.011119503076469858,0.010972117330127528,0.010824852869464264,0.01067772922380652,0.010530766516561846,0.01038398555813695,0.010237407936317248,0.010091056103132611,0.009944953457274279,0.009799124421174832,0.009653594511916662,0.009508390405193136,0.009363539991609994,0.009219072424682988,0.009075018159959324,0.00893140898476506,0.008788278038157826,0.008645659820742954,0.008503590194090329,0.00836210636957032,0.008221246886505558,0.008081051579615786,0.0079415615358089,0.007802819040448465,0.007664867513299211,0.0075277514344237705,0.007391516260369624,0.0072562083310484015,0.007121874767768961,0.006988563362940177,0.006856322462009211,0.006725200838246792,0.006595247561031112,0.006466511858318039,0.006339042974014878,0.006212890021001554,0.006088101830562331,0.005964726799007688,0.005842812732275738,0.005722406689309095,0.005603554825004036,0.005486302233525589,0.005370692792775132,0.005256769010785121,0.005144571874801012,0.00503414070379047,0.004925513005099088,0.004818724335945117,0.004713808170418309,0.00461079577261642,0.004509716076520077,0.0044105955731703035,0.004313458205676371,0.0042183252725412285,0.0041252153397518705,0.004034144162038932,0.003945124613666932,0.0038581666290719205,0.003773277153618542,0.0036904601047023327,0.0036097163433774903,0.0035310436566435574,0.0034544367504783908,0.0033798872536579755,0.003307383732357909,0.003236911715485238,0.003168453730644293,0.003101989350595169,0.003037495250020238,0.0029749452723704735,0.002914310506522171,0.0028555593729336364,0.00279865771895243,0.0027435689228858923,0.002690254006411661,0.0026386717548705415,0.00258877884495186,0.002540529979250867,0.0024938780271498966,0.002448774171448974,0.0024051680601483074,0.0023630079627642727,0.0023222409305422983,0.002282812959914792,0.002244669158539648,0.002207753913245373,0.0021720110592023307,0.00213738404963612,0.002103816125398757,0.002071250483716206,0.0020396304454365966,0.002008899620112885,0.001979002068265596,0.0019498824601870172,0.0019214862306663656,0.0018937597290368713,0.0018666503639700282,0.0018401067424692029,0.0018140788025443795,0.0017885179390820368,0.0017633771224584613,0.0017386110094815,0.001714176046284115,0.0016900305628335171,0.0016661348587613065,0.0016424512802631775,0.0016189442878607498,0.001595580514863173,0.0015723288164113307,0.0015491603090334537,0.0015260484006865177,0.0015029688113033792,0.0014798995839106612,0.001456821086426531,0.0014337160042909034,0.0014105693241225031,0.001387368308637763,0.0013641024631053404,0.0013407634936468964,0.001317345257729552,0.0012938437072278189,0.0012702568244628177],\"yaxis\":\"y\",\"type\":\"scatter\",\"fill\":\"tozeroy\",\"hovertemplate\":\"\\u003cb\\u003eReal\\u003c\\u002fb\\u003e\\u003cbr\\u003eFrequency: %{y}\\u003cextra\\u003e\\u003c\\u002fextra\\u003e\"},{\"legendgroup\":\"Synthetic\",\"marker\":{\"color\":\"#01E0C9\"},\"mode\":\"lines\",\"name\":\"Synthetic\",\"showlegend\":true,\"x\":[0.0,0.09623999999999999,0.19247999999999998,0.28872,0.38495999999999997,0.48119999999999996,0.57744,0.67368,0.7699199999999999,0.8661599999999999,0.9623999999999999,1.0586399999999998,1.15488,1.2511199999999998,1.34736,1.4436,1.5398399999999999,1.63608,1.7323199999999999,1.82856,1.9247999999999998,2.02104,2.1172799999999996,2.21352,2.30976,2.406,2.5022399999999996,2.59848,2.69472,2.79096,2.8872,2.98344,3.0796799999999998,3.1759199999999996,3.27216,3.3684,3.4646399999999997,3.5608799999999996,3.65712,3.75336,3.8495999999999997,3.9458399999999996,4.04208,4.138319999999999,4.234559999999999,4.3308,4.42704,4.52328,4.61952,4.7157599999999995,4.812,4.90824,5.004479999999999,5.100719999999999,5.19696,5.2932,5.38944,5.4856799999999994,5.58192,5.67816,5.7744,5.87064,5.96688,6.06312,6.1593599999999995,6.255599999999999,6.351839999999999,6.44808,6.54432,6.64056,6.7368,6.83304,6.929279999999999,7.025519999999999,7.121759999999999,7.218,7.31424,7.41048,7.50672,7.60296,7.699199999999999,7.795439999999999,7.891679999999999,7.987919999999999,8.08416,8.180399999999999,8.276639999999999,8.372879999999999,8.469119999999998,8.565359999999998,8.6616,8.75784,8.85408,8.95032,9.04656,9.1428,9.23904,9.33528,9.431519999999999,9.52776,9.624,9.72024,9.81648,9.91272,10.008959999999998,10.105199999999998,10.201439999999998,10.29768,10.39392,10.49016,10.5864,10.68264,10.77888,10.875119999999999,10.971359999999999,11.067599999999999,11.16384,11.26008,11.35632,11.45256,11.5488,11.64504,11.74128,11.837519999999998,11.93376,12.03,12.12624,12.22248,12.318719999999999,12.414959999999999,12.511199999999999,12.607439999999999,12.703679999999999,12.79992,12.89616,12.9924,13.08864,13.18488,13.28112,13.37736,13.4736,13.569840000000001,13.66608,13.762319999999999,13.858559999999999,13.954799999999999,14.051039999999999,14.147279999999999,14.243519999999998,14.339759999999998,14.436,14.53224,14.62848,14.72472,14.82096,14.9172,15.01344,15.109679999999999,15.20592,15.30216,15.398399999999999,15.494639999999999,15.590879999999999,15.687119999999998,15.783359999999998,15.879599999999998,15.975839999999998,16.07208,16.16832,16.26456,16.360799999999998,16.45704,16.553279999999997,16.64952,16.745759999999997,16.842,16.938239999999997,17.03448,17.130719999999997,17.22696,17.3232,17.419439999999998,17.51568,17.611919999999998,17.70816,17.804399999999998,17.90064,17.996879999999997,18.09312,18.18936,18.2856,18.38184,18.47808,18.57432,18.67056,18.7668,18.863039999999998,18.95928,19.05552,19.15176,19.248,19.34424,19.44048,19.53672,19.63296,19.729200000000002,19.82544,19.921680000000002,20.017919999999997,20.11416,20.210399999999996,20.306639999999998,20.402879999999996,20.499119999999998,20.59536,20.691599999999998,20.78784,20.884079999999997,20.98032,21.076559999999997,21.1728,21.269039999999997,21.36528,21.46152,21.55776,21.654,21.750239999999998,21.84648,21.942719999999998,22.03896,22.135199999999998,22.23144,22.32768,22.42392,22.52016,22.6164,22.71264,22.80888,22.90512,23.001360000000002,23.0976,23.19384,23.29008,23.38632,23.48256,23.578799999999998,23.675039999999996,23.771279999999997,23.86752,23.963759999999997,24.06,24.156239999999997,24.25248,24.348719999999997,24.44496,24.541199999999996,24.637439999999998,24.73368,24.829919999999998,24.92616,25.022399999999998,25.11864,25.214879999999997,25.31112,25.407359999999997,25.5036,25.59984,25.69608,25.79232,25.88856,25.9848,26.081039999999998,26.17728,26.273519999999998,26.36976,26.466,26.56224,26.65848,26.75472,26.85096,26.9472,27.04344,27.139680000000002,27.235919999999997,27.33216,27.428399999999996,27.524639999999998,27.620879999999996,27.717119999999998,27.813359999999996,27.909599999999998,28.00584,28.102079999999997,28.19832,28.294559999999997,28.3908,28.487039999999997,28.58328,28.679519999999997,28.77576,28.872,28.968239999999998,29.06448,29.160719999999998,29.25696,29.353199999999998,29.44944,29.545679999999997,29.64192,29.73816,29.8344,29.93064,30.02688,30.12312,30.219359999999998,30.3156,30.41184,30.50808,30.60432,30.70056,30.796799999999998,30.893039999999996,30.989279999999997,31.085519999999995,31.181759999999997,31.278,31.374239999999997,31.47048,31.566719999999997,31.662959999999998,31.759199999999996,31.855439999999998,31.951679999999996,32.04792,32.14416,32.2404,32.33664,32.43288,32.52912,32.62535999999999,32.721599999999995,32.81784,32.91408,33.01032,33.106559999999995,33.202799999999996,33.29904,33.39528,33.491519999999994,33.587759999999996,33.684,33.78024,33.876479999999994,33.97272,34.06896,34.1652,34.26143999999999,34.35768,34.45392,34.55016,34.6464,34.74264,34.838879999999996,34.93512,35.03136,35.1276,35.223839999999996,35.320080000000004,35.41632,35.51256,35.608799999999995,35.705040000000004,35.80128,35.89752,35.993759999999995,36.09,36.18624,36.28247999999999,36.37872,36.474959999999996,36.5712,36.66743999999999,36.76368,36.859919999999995,36.95616,37.0524,37.14864,37.244879999999995,37.34112,37.43736,37.5336,37.629839999999994,37.726079999999996,37.82232,37.91856,38.014799999999994,38.11104,38.20728,38.30352,38.39975999999999,38.496,38.59224,38.68848,38.78472,38.88096,38.977199999999996,39.07344,39.16968,39.26592,39.362159999999996,39.458400000000005,39.55464,39.65088,39.747119999999995,39.843360000000004,39.9396,40.03583999999999,40.132079999999995,40.22832,40.32456,40.42079999999999,40.51704,40.613279999999996,40.70952,40.80575999999999,40.902,40.998239999999996,41.09448,41.19072,41.28696,41.383199999999995,41.47944,41.57568,41.67192,41.768159999999995,41.864399999999996,41.96064,42.05688,42.153119999999994,42.24936,42.3456,42.44184,42.538079999999994,42.63432,42.73056,42.8268,42.92304,43.01928,43.11552,43.21176,43.308,43.40424,43.500479999999996,43.59672,43.69296,43.789199999999994,43.885439999999996,43.98168,44.07792,44.17415999999999,44.270399999999995,44.36664,44.46288,44.55911999999999,44.65536,44.751599999999996,44.84784,44.94407999999999,45.04032,45.136559999999996,45.2328,45.32904,45.42528,45.521519999999995,45.61776,45.714,45.81024,45.906479999999995,46.002720000000004,46.09896,46.1952,46.291439999999994,46.38768,46.48392,46.58016,46.676399999999994,46.77264,46.86888,46.96512,47.06136,47.157599999999995,47.25384,47.35007999999999,47.44632,47.542559999999995,47.638799999999996,47.73504,47.83128,47.927519999999994,48.023759999999996],\"xaxis\":\"x\",\"y\":[0.028237775959139733,0.02852094701861383,0.028798446032533623,0.029070125938928167,0.029335846635999162,0.029595475162964888,0.029848885864953767,0.030095960541574148,0.030336588578837743,0.030570667064165818,0.030798100884260313,0.03101880280567597,0.031232693537983153,0.03143970177946529,0.03163976424534973,0.031832825678623826,0.03201883884354315,0.03219776450199049,0.03236957137289705,0.03253423607498937,0.0326917430531731,0.0328420844889164,0.03298526019504019,0.03312127749536882,0.03325015108973812,0.03337190290489789,0.03348656193188605,0.03359416405048701,0.033694751841421546,0.03378837438694635,0.03387508706056992,0.0339549513066179,0.03402803441040218,0.03409440925977048,0.03415415409882701,0.03420735227463072,0.03425409197768819,0.03429446597706337,0.03432857135093563,0.034356509213433174,0.0343783844385726,0.03439430538212731,0.034404383602242024,0.03440873357959844,0.03440747243792642,0.03440071966563653,0.03438859683933365,0.03437122734994955,0.034348736132208436,0.03432124939811608,0.034288894375133085,0.03425179904966646,0.034210091916478766,0.034163901734585674,0.034113357290174326,0.034058587167043,0.033999719525022676,0.03393688188680672,0.03387020093357376,0.03379980230975147,0.033725810437229796,0.03364834833929088,0.033567537474484994,0.033483497580641466,0.03339634652916356,0.03330620018971846,0.03321317230539382,0.03311737437835563,0.033018915566004156,0.03291790258759004,0.03281443964121595,0.032708628331117776,0.032600567605084535,0.03249035370184713,0.03237808010823658,0.03226383752588226,0.03214771384719804,0.032029794140377,0.03191016064309415,0.031788892764595,0.031666067095830426,0.03154175742727877,0.031416034774084146,0.03128896740812374,0.03116062089660789,0.031031058146806925,0.030900339456490105,0.030768522569658355,0.030635662737147712,0.03050181278167875,0.03036702316692688,0.03023134207019111,0.030094815458240345,0.029957487165922645,0.029819398977128556,0.02968059070770674,0.029541100289940853,0.029400963858204888,0.029260215835427494,0.029118889020007227,0.028977014672834804,0.0288346226040926,0.028691741259517275,0.028548397805827262,0.02840461821503288,0.02826042734736498,0.028115849032574927,0.027970906149376598,0.02782562070281901,0.027680013899397834,0.02753410621972936,0.027387917488633094,0.027241466942482702,0.027094773293707023,0.026947854792337408,0.026800729284518553,0.026653414267912803,0.026505926943948772,0.02635828426687778,0.02621050298961984,0.026062599706393554,0.02591459089214001,0.02576649293876452,0.025618322188231228,0.025470094962558917,0.025321827590779056,0.025173536432923176,0.025025237901122554,0.02487694847790552,0.024728684731791403,0.02458046333028328,0.024432301050370253,0.024284214786654393,0.0241362215572225,0.023988338507387404,0.023840582911424723,0.02369297217243567,0.02354552382046583,0.023398255509012752,0.02325118501005253,0.02310433020771903,0.02295770909076312,0.022811339743922614,0.022665240338326884,0.022519429121060426,0.02237392440400439,0.02222874455207143,0.022083907970945938,0.021939433094435943,0.021795338371538367,0.021651642253314316,0.02150836317966503,0.0213655195660937,0.021223129790532067,0.021081212180305127,0.020939784999300545,0.02079886643540342,0.020658474588250826,0.020518627457353847,0.020379342930629124,0.020240638773375567,0.020102532617725512,0.019965041952594142,0.019828184114145064,0.019691976276784134,0.019556435444688394,0.01942157844387208,0.01928742191478615,0.01915398230544391,0.019021275865060142,0.01888931863818771,0.01875812645933154,0.018627714948016655,0.01849809950428323,0.018369295304580154,0.018241317298024123,0.018114180202991187,0.01798789850400485,0.01786248644888287,0.017737958046105593,0.017614327062365296,0.017491607020258357,0.01736981119607937,0.017248952617678136,0.017129044062340216,0.017010098054652558,0.016892126864316837,0.01677514250387383,0.016659156726304802,0.016544181022476057,0.016430226618395834,0.016317304472254938,0.016205425271223498,0.0160945994279803,0.015984837076952425,0.01587614807024687,0.015768541973256955,0.015662028059931356,0.015556615307694432,0.015452312392011275,0.015349127680592618,0.015247069227239157,0.015146144765326018,0.0150463617009335,0.014947727105631132,0.014850247708926104,0.014753929890390177,0.014658779671480764,0.014564802707076732,0.014472004276748997,0.014380389275792256,0.014289962206042912,0.014200727166512715,0.014112687843869383,0.014025847502796562,0.01394020897626777,0.013855774655771026,0.013772546481520887,0.01369052593269755,0.01360971401775217,0.01353011126481939,0.013451717712278096,0.01337453289950269,0.01329855585784634,0.013223785101898448,0.01315021862105901,0.013077853871470587,0.013006687768350362,0.012936716678761784,0.012867936414866749,0.012800342227696748,0.012733928801480813,0.012668690248566889,0.012604620104972257,0.012541711326595848,0.01247995628612514,0.012419346770667609,0.012359873980135383,0.012301528526408832,0.012244300433304257,0.012188179137367347,0.012133153489512839,0.012079211757527507,0.01202634162945273,0.01197453021785914,0.01192376406502429,0.011874029149021852,0.011825310890728054,0.011777594161748969,0.01173086329326997,0.011685102085825792,0.011640293819988226,0.01159642126796477,0.011553466706100801,0.011511411928274432,0.011470238260171657,0.011429926574427122,0.011390457306613708,0.011351810472062159,0.011313965683490385,0.011276902169419676,0.011240598793353847,0.011205034073695424,0.01117018620437156,0.011136033076140337,0.011102552298548037,0.011069721222504976,0.011037516963447612,0.011005916425053252,0.010974896323471983,0.01094443321204058,0.010914503506441835,0.01088508351027182,0.01085614944097746,0.010827677456126122,0.010799643679968177,0.010772024230253719,0.010744795245263939,0.010717932911017677,0.01069141348861357,0.010665213341667935,0.010639308963809713,0.01061367700619175,0.010588294304980646,0.010563137908785498,0.010538185105987308,0.010513413451930935,0.01048880079594236,0.010464325308133461,0.01043996550595878,0.01041570028048784,0.010391508922358156,0.010367371147374543,0.010343267121721208,0.010319177486753707,0.010295083383338835,0.010270966475711952,0.010246808974820781,0.010222593661127316,0.010198303906839191,0.010173923697543783,0.010149437653218346,0.010124831048591658,0.010100089832833,0.010075200648545207,0.010050150850040455,0.010024928520877803,0.00999952249064278,0.009973922350950744,0.009948118470656592,0.009922102010254607,0.009895864935453247,0.009869400029911159,0.009842700907121452,0.00981576202143261,0.009788578678195483,0.009761147043027078,0.009733464150182508,0.009705527910028114,0.009677337115609733,0.009648891448310536,0.009620191482594959,0.009591238689835276,0.0095620354412188,0.009532585009734872,0.009502891571241269,0.00947296020461062,0.009442796890958768,0.009412408511957142,0.00938180284723239,0.009350988570857408,0.009319975246937886,0.009288773324299913,0.00925739413028434,0.009225849863654023,0.00919415358662096,0.009162319216000222,0.009130361513498293,0.009098296075143545,0.009066139319866714,0.009033908477239668,0.009001621574380456,0.00896929742203288,0.008936955599828638,0.008904616440740115,0.008872301014731526,0.008840031111615963,0.00880782922312525,0.008775718524199953,0.008743722853505052,0.008711866693178033,0.008680175147813584,0.008648673922690428,0.008617389301243639,0.00858634812178596,0.008555577753480514,0.008525106071566693,0.008494961431840222,0.00846517264438741,0.008435768946573202,0.008406779975281206,0.008378235738403862,0.008350166585579664,0.00832260317817342,0.00829557645849563,0.00826911761825566,0.008243258066243249,0.008218029395232158,0.008193463348099863,0.008169591783155933,0.008146446638673007,0.008124059896612666,0.008102463545539751,0.008081689542718503,0.008061769775384003,0.008042736021183858,0.008024619907784483,0.008007452871638954,0.00799126611591289,0.007976090567567637,0.007961956833600629,0.007948895156445182,0.007936935368533862,0.007926106846032004,0.007916438461750233,0.007907958537248098,0.00790069479414382,0.007894674304648155,0.00788992344134471,0.007886467826242019,0.007884332279127639,0.00788354076525801,0.007884116342423152,0.007886081107429586,0.007889456142050093,0.007894261458493982,0.007900515944457122,0.007908237307816498,0.007917442021039752,0.007928145265386008,0.007940360874980344,0.007954101280850332,0.007969377455019161,0.007986198854755884,0.008004573367089714,0.008024507253701595,0.008046005096311483,0.008069069742687165,0.008093702253404935,0.008119901849499143,0.008147665861142562,0.008176989677505148,0.008207866697943584,0.008240288284678833,0.008274243717123085,0.00830972014802182,0.00834670256157968,0.00838517373374281,0.00842511419481175,0.008466502194562246,0.008509313670051883,0.008553522216291893,0.008599099059963554,0.008646013036358056,0.008694230569717928,0.008743715657156082,0.008794429856325918,0.008846332277012914,0.008899379576813544,0.008953525961063066,0.009008723187167554,0.009064920573489036,0.009122065012925715,0.009180100991320628,0.009238970610823263,0.009298613618319,0.009358967439030643,0.009419967215384576,0.009481545851222606,0.009543634061427369,0.009606160427015136,0.009669051455736736,0.009732231648211187,0.009795623569602221,0.009859147926830746,0.009922723651301094,0.009986267987100533,0.01004969658461503,0.010112923599486281,0.010175861796816841,0.010238422660512237,0.010300516507630348,0.01036205260759023,0.010422939306073674,0.010483084153435022,0.010542394037416063,0.010600775319945325,0.010658133977782966,0.010714375746755746,0.010769406269309558,0.010823131245090429,0.010875456584250124,0.010926288563156809,0.010975533982177663,0.011023100325186608,0.011068895920438542,0.011112830102439925,0.011154813374434688,0.011194757571116699,0.01123257602117036,0.011268183709235617,0.011301497436887277,0.011332435982214716,0.011360920257585639,0.011386873465175338,0.01141022124984386,0.011430891848944335,0.01144881623864931,0.01146392827638534,0.011476164838973587,0.011485465956079622,0.01149177493858648,0.011495038501513443,0.011495206881116478,0.011492233945817587,0.011486077300626592,0.011476698384733232,0.011464062561965303,0.011448139203826322,0.01142890176484622,0.011406327849998453,0.011380399273958723,0.011351102112003008,0.011318426742365637,0.011282367879902609,0.011242924600929781,0.011200100359131038,0.011153902992457415,0.011104344720964372,0.01105144213556107],\"yaxis\":\"y\",\"type\":\"scatter\",\"fill\":\"tozeroy\",\"hovertemplate\":\"\\u003cb\\u003eSynthetic\\u003c\\u002fb\\u003e\\u003cbr\\u003eFrequency: %{y}\\u003cextra\\u003e\\u003c\\u002fextra\\u003e\"}],                        {\"barmode\":\"overlay\",\"hovermode\":\"closest\",\"legend\":{\"traceorder\":\"reversed\"},\"xaxis\":{\"anchor\":\"y2\",\"domain\":[0.0,1.0],\"zeroline\":false,\"title\":{\"text\":\"Value\"}},\"yaxis\":{\"anchor\":\"free\",\"domain\":[0.0,1],\"position\":0.0,\"title\":{\"text\":\"Frequency\"}},\"template\":{\"data\":{\"histogram2dcontour\":[{\"type\":\"histogram2dcontour\",\"colorbar\":{\"outlinewidth\":0,\"ticks\":\"\"},\"colorscale\":[[0.0,\"#0d0887\"],[0.1111111111111111,\"#46039f\"],[0.2222222222222222,\"#7201a8\"],[0.3333333333333333,\"#9c179e\"],[0.4444444444444444,\"#bd3786\"],[0.5555555555555556,\"#d8576b\"],[0.6666666666666666,\"#ed7953\"],[0.7777777777777778,\"#fb9f3a\"],[0.8888888888888888,\"#fdca26\"],[1.0,\"#f0f921\"]]}],\"choropleth\":[{\"type\":\"choropleth\",\"colorbar\":{\"outlinewidth\":0,\"ticks\":\"\"}}],\"histogram2d\":[{\"type\":\"histogram2d\",\"colorbar\":{\"outlinewidth\":0,\"ticks\":\"\"},\"colorscale\":[[0.0,\"#0d0887\"],[0.1111111111111111,\"#46039f\"],[0.2222222222222222,\"#7201a8\"],[0.3333333333333333,\"#9c179e\"],[0.4444444444444444,\"#bd3786\"],[0.5555555555555556,\"#d8576b\"],[0.6666666666666666,\"#ed7953\"],[0.7777777777777778,\"#fb9f3a\"],[0.8888888888888888,\"#fdca26\"],[1.0,\"#f0f921\"]]}],\"heatmap\":[{\"type\":\"heatmap\",\"colorbar\":{\"outlinewidth\":0,\"ticks\":\"\"},\"colorscale\":[[0.0,\"#0d0887\"],[0.1111111111111111,\"#46039f\"],[0.2222222222222222,\"#7201a8\"],[0.3333333333333333,\"#9c179e\"],[0.4444444444444444,\"#bd3786\"],[0.5555555555555556,\"#d8576b\"],[0.6666666666666666,\"#ed7953\"],[0.7777777777777778,\"#fb9f3a\"],[0.8888888888888888,\"#fdca26\"],[1.0,\"#f0f921\"]]}],\"heatmapgl\":[{\"type\":\"heatmapgl\",\"colorbar\":{\"outlinewidth\":0,\"ticks\":\"\"},\"colorscale\":[[0.0,\"#0d0887\"],[0.1111111111111111,\"#46039f\"],[0.2222222222222222,\"#7201a8\"],[0.3333333333333333,\"#9c179e\"],[0.4444444444444444,\"#bd3786\"],[0.5555555555555556,\"#d8576b\"],[0.6666666666666666,\"#ed7953\"],[0.7777777777777778,\"#fb9f3a\"],[0.8888888888888888,\"#fdca26\"],[1.0,\"#f0f921\"]]}],\"contourcarpet\":[{\"type\":\"contourcarpet\",\"colorbar\":{\"outlinewidth\":0,\"ticks\":\"\"}}],\"contour\":[{\"type\":\"contour\",\"colorbar\":{\"outlinewidth\":0,\"ticks\":\"\"},\"colorscale\":[[0.0,\"#0d0887\"],[0.1111111111111111,\"#46039f\"],[0.2222222222222222,\"#7201a8\"],[0.3333333333333333,\"#9c179e\"],[0.4444444444444444,\"#bd3786\"],[0.5555555555555556,\"#d8576b\"],[0.6666666666666666,\"#ed7953\"],[0.7777777777777778,\"#fb9f3a\"],[0.8888888888888888,\"#fdca26\"],[1.0,\"#f0f921\"]]}],\"surface\":[{\"type\":\"surface\",\"colorbar\":{\"outlinewidth\":0,\"ticks\":\"\"},\"colorscale\":[[0.0,\"#0d0887\"],[0.1111111111111111,\"#46039f\"],[0.2222222222222222,\"#7201a8\"],[0.3333333333333333,\"#9c179e\"],[0.4444444444444444,\"#bd3786\"],[0.5555555555555556,\"#d8576b\"],[0.6666666666666666,\"#ed7953\"],[0.7777777777777778,\"#fb9f3a\"],[0.8888888888888888,\"#fdca26\"],[1.0,\"#f0f921\"]]}],\"mesh3d\":[{\"type\":\"mesh3d\",\"colorbar\":{\"outlinewidth\":0,\"ticks\":\"\"}}],\"scatter\":[{\"fillpattern\":{\"fillmode\":\"overlay\",\"size\":10,\"solidity\":0.2},\"type\":\"scatter\"}],\"parcoords\":[{\"type\":\"parcoords\",\"line\":{\"colorbar\":{\"outlinewidth\":0,\"ticks\":\"\"}}}],\"scatterpolargl\":[{\"type\":\"scatterpolargl\",\"marker\":{\"colorbar\":{\"outlinewidth\":0,\"ticks\":\"\"}}}],\"bar\":[{\"error_x\":{\"color\":\"#2a3f5f\"},\"error_y\":{\"color\":\"#2a3f5f\"},\"marker\":{\"line\":{\"color\":\"#E5ECF6\",\"width\":0.5},\"pattern\":{\"fillmode\":\"overlay\",\"size\":10,\"solidity\":0.2}},\"type\":\"bar\"}],\"scattergeo\":[{\"type\":\"scattergeo\",\"marker\":{\"colorbar\":{\"outlinewidth\":0,\"ticks\":\"\"}}}],\"scatterpolar\":[{\"type\":\"scatterpolar\",\"marker\":{\"colorbar\":{\"outlinewidth\":0,\"ticks\":\"\"}}}],\"histogram\":[{\"marker\":{\"pattern\":{\"fillmode\":\"overlay\",\"size\":10,\"solidity\":0.2}},\"type\":\"histogram\"}],\"scattergl\":[{\"type\":\"scattergl\",\"marker\":{\"colorbar\":{\"outlinewidth\":0,\"ticks\":\"\"}}}],\"scatter3d\":[{\"type\":\"scatter3d\",\"line\":{\"colorbar\":{\"outlinewidth\":0,\"ticks\":\"\"}},\"marker\":{\"colorbar\":{\"outlinewidth\":0,\"ticks\":\"\"}}}],\"scattermapbox\":[{\"type\":\"scattermapbox\",\"marker\":{\"colorbar\":{\"outlinewidth\":0,\"ticks\":\"\"}}}],\"scatterternary\":[{\"type\":\"scatterternary\",\"marker\":{\"colorbar\":{\"outlinewidth\":0,\"ticks\":\"\"}}}],\"scattercarpet\":[{\"type\":\"scattercarpet\",\"marker\":{\"colorbar\":{\"outlinewidth\":0,\"ticks\":\"\"}}}],\"carpet\":[{\"aaxis\":{\"endlinecolor\":\"#2a3f5f\",\"gridcolor\":\"white\",\"linecolor\":\"white\",\"minorgridcolor\":\"white\",\"startlinecolor\":\"#2a3f5f\"},\"baxis\":{\"endlinecolor\":\"#2a3f5f\",\"gridcolor\":\"white\",\"linecolor\":\"white\",\"minorgridcolor\":\"white\",\"startlinecolor\":\"#2a3f5f\"},\"type\":\"carpet\"}],\"table\":[{\"cells\":{\"fill\":{\"color\":\"#EBF0F8\"},\"line\":{\"color\":\"white\"}},\"header\":{\"fill\":{\"color\":\"#C8D4E3\"},\"line\":{\"color\":\"white\"}},\"type\":\"table\"}],\"barpolar\":[{\"marker\":{\"line\":{\"color\":\"#E5ECF6\",\"width\":0.5},\"pattern\":{\"fillmode\":\"overlay\",\"size\":10,\"solidity\":0.2}},\"type\":\"barpolar\"}],\"pie\":[{\"automargin\":true,\"type\":\"pie\"}]},\"layout\":{\"autotypenumbers\":\"strict\",\"colorway\":[\"#636efa\",\"#EF553B\",\"#00cc96\",\"#ab63fa\",\"#FFA15A\",\"#19d3f3\",\"#FF6692\",\"#B6E880\",\"#FF97FF\",\"#FECB52\"],\"font\":{\"color\":\"#2a3f5f\"},\"hovermode\":\"closest\",\"hoverlabel\":{\"align\":\"left\"},\"paper_bgcolor\":\"white\",\"plot_bgcolor\":\"#E5ECF6\",\"polar\":{\"bgcolor\":\"#E5ECF6\",\"angularaxis\":{\"gridcolor\":\"white\",\"linecolor\":\"white\",\"ticks\":\"\"},\"radialaxis\":{\"gridcolor\":\"white\",\"linecolor\":\"white\",\"ticks\":\"\"}},\"ternary\":{\"bgcolor\":\"#E5ECF6\",\"aaxis\":{\"gridcolor\":\"white\",\"linecolor\":\"white\",\"ticks\":\"\"},\"baxis\":{\"gridcolor\":\"white\",\"linecolor\":\"white\",\"ticks\":\"\"},\"caxis\":{\"gridcolor\":\"white\",\"linecolor\":\"white\",\"ticks\":\"\"}},\"coloraxis\":{\"colorbar\":{\"outlinewidth\":0,\"ticks\":\"\"}},\"colorscale\":{\"sequential\":[[0.0,\"#0d0887\"],[0.1111111111111111,\"#46039f\"],[0.2222222222222222,\"#7201a8\"],[0.3333333333333333,\"#9c179e\"],[0.4444444444444444,\"#bd3786\"],[0.5555555555555556,\"#d8576b\"],[0.6666666666666666,\"#ed7953\"],[0.7777777777777778,\"#fb9f3a\"],[0.8888888888888888,\"#fdca26\"],[1.0,\"#f0f921\"]],\"sequentialminus\":[[0.0,\"#0d0887\"],[0.1111111111111111,\"#46039f\"],[0.2222222222222222,\"#7201a8\"],[0.3333333333333333,\"#9c179e\"],[0.4444444444444444,\"#bd3786\"],[0.5555555555555556,\"#d8576b\"],[0.6666666666666666,\"#ed7953\"],[0.7777777777777778,\"#fb9f3a\"],[0.8888888888888888,\"#fdca26\"],[1.0,\"#f0f921\"]],\"diverging\":[[0,\"#8e0152\"],[0.1,\"#c51b7d\"],[0.2,\"#de77ae\"],[0.3,\"#f1b6da\"],[0.4,\"#fde0ef\"],[0.5,\"#f7f7f7\"],[0.6,\"#e6f5d0\"],[0.7,\"#b8e186\"],[0.8,\"#7fbc41\"],[0.9,\"#4d9221\"],[1,\"#276419\"]]},\"xaxis\":{\"gridcolor\":\"white\",\"linecolor\":\"white\",\"ticks\":\"\",\"title\":{\"standoff\":15},\"zerolinecolor\":\"white\",\"automargin\":true,\"zerolinewidth\":2},\"yaxis\":{\"gridcolor\":\"white\",\"linecolor\":\"white\",\"ticks\":\"\",\"title\":{\"standoff\":15},\"zerolinecolor\":\"white\",\"automargin\":true,\"zerolinewidth\":2},\"scene\":{\"xaxis\":{\"backgroundcolor\":\"#E5ECF6\",\"gridcolor\":\"white\",\"linecolor\":\"white\",\"showbackground\":true,\"ticks\":\"\",\"zerolinecolor\":\"white\",\"gridwidth\":2},\"yaxis\":{\"backgroundcolor\":\"#E5ECF6\",\"gridcolor\":\"white\",\"linecolor\":\"white\",\"showbackground\":true,\"ticks\":\"\",\"zerolinecolor\":\"white\",\"gridwidth\":2},\"zaxis\":{\"backgroundcolor\":\"#E5ECF6\",\"gridcolor\":\"white\",\"linecolor\":\"white\",\"showbackground\":true,\"ticks\":\"\",\"zerolinecolor\":\"white\",\"gridwidth\":2}},\"shapedefaults\":{\"line\":{\"color\":\"#2a3f5f\"}},\"annotationdefaults\":{\"arrowcolor\":\"#2a3f5f\",\"arrowhead\":0,\"arrowwidth\":1},\"geo\":{\"bgcolor\":\"white\",\"landcolor\":\"#E5ECF6\",\"subunitcolor\":\"white\",\"showland\":true,\"showlakes\":true,\"lakecolor\":\"white\"},\"title\":{\"x\":0.05},\"mapbox\":{\"style\":\"light\"}}},\"font\":{\"size\":18},\"title\":{\"text\":\"Real vs. Synthetic Data for column 'amenities_fee'\"},\"plot_bgcolor\":\"#F5F5F8\",\"annotations\":[{\"showarrow\":false,\"text\":\"*Missing Values: Real Data (9.0%), Synthetic Data (7.4%)\",\"x\":1.0,\"xref\":\"paper\",\"y\":1.05,\"yref\":\"paper\"}]},                        {\"responsive\": true}                    )                };                            </script>        </div>\n",
       "</body>\n",
       "</html>"
      ]
     },
     "metadata": {},
     "output_type": "display_data"
    }
   ],
   "source": [
    "from sdv.evaluation.single_table import get_column_plot\n",
    "\n",
    "fig = get_column_plot(\n",
    "    real_data=real_data,\n",
    "    synthetic_data=synthetic_data,\n",
    "    column_name='amenities_fee',\n",
    "    metadata=metadata\n",
    ")\n",
    "    \n",
    "fig.show()"
   ]
  }
 ],
 "metadata": {
  "application/vnd.databricks.v1+notebook": {
   "computePreferences": null,
   "dashboards": [],
   "environmentMetadata": {
    "base_environment": "",
    "environment_version": "3"
   },
   "inputWidgetPreferences": null,
   "language": "python",
   "notebookMetadata": {
    "pythonIndentUnit": 4
   },
   "notebookName": "Synthetic Data Vault (SDV)",
   "widgets": {}
  },
  "language_info": {
   "name": "python"
  }
 },
 "nbformat": 4,
 "nbformat_minor": 0
}