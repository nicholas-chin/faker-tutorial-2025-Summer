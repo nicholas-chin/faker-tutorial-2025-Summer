{
 "cells": [
  {
   "cell_type": "markdown",
   "metadata": {
    "application/vnd.databricks.v1+cell": {
     "cellMetadata": {
      "byteLimit": 2048000,
      "rowLimit": 10000
     },
     "inputWidgets": {},
     "nuid": "e12449e2-838c-487c-8d5b-3f96048d892f",
     "showTitle": false,
     "tableResultSettingsMap": {},
     "title": ""
    }
   },
   "source": [
    "## Introduction\n",
    "\n",
    "The goal of this notebook is to demonstrate how fake Test Data can be generated using Python. I am using Databricks Free Edition because everyone with a Google or Microsoft account can sign up easily. The notebook and python packages are open source and free, it can be used in any service with python notebook capability or locally on your computer.\n",
    "\n",
    "## Structure of this Tutorial\n",
    "1. Short introduction of a Fake Story\n",
    "1. Quick introduction of Faker python lirary \n",
    "1. Installation of Faker python library\n",
    "1. Quick Test Data Generation\n",
    "1. Customized Test Data Generation\n",
    "1. Try it yourself Guide\n",
    "\n"
   ]
  },
  {
   "cell_type": "markdown",
   "metadata": {
    "application/vnd.databricks.v1+cell": {
     "cellMetadata": {
      "byteLimit": 2048000,
      "rowLimit": 10000
     },
     "inputWidgets": {},
     "nuid": "b883e118-b0cc-4c72-875e-1916d63bd845",
     "showTitle": false,
     "tableResultSettingsMap": {},
     "title": ""
    }
   },
   "source": [
    "## Fake Story\n",
    "ODP is producing an animation titled \"Liberator of Data\", we would like to know more about our talents, examples: number of music composers, hidden talents, etc."
   ]
  },
  {
   "cell_type": "markdown",
   "metadata": {
    "application/vnd.databricks.v1+cell": {
     "cellMetadata": {
      "byteLimit": 2048000,
      "rowLimit": 10000
     },
     "inputWidgets": {},
     "nuid": "c4dc55af-5da7-4760-9542-9a6a9d9459b8",
     "showTitle": false,
     "tableResultSettingsMap": {},
     "title": ""
    }
   },
   "source": [
    "## Faker Python Package\n",
    "Faker is a Python package that generates fake data. \n",
    "Use case: Test Data for Proof of Concept, Data Anonymization.\n",
    "\n",
    "[Faker documentation](https://faker.readthedocs.io)\n",
    "\n",
    "Install Faker python package:\n",
    "`%pip install faker`\n",
    "\n",
    "Quick Start\n",
    "```\n",
    "from faker import Faker\n",
    "\n",
    "# seed integer is to used to make sure same values are generated if run again\n",
    "Faker.seed(0)\n",
    "# locale is set to make sure data is in Canadian format\n",
    "fake = Faker(\"en_CA\")\n",
    "```\n"
   ]
  },
  {
   "cell_type": "markdown",
   "metadata": {
    "application/vnd.databricks.v1+cell": {
     "cellMetadata": {
      "byteLimit": 2048000,
      "rowLimit": 10000
     },
     "inputWidgets": {},
     "nuid": "2c3ed1bb-cee1-4822-9e1e-a966e4a2bdd9",
     "showTitle": false,
     "tableResultSettingsMap": {},
     "title": ""
    }
   },
   "source": [
    "## Installation of Faker python package\n",
    "- click on the \"Run cell\" button on the top left corner of the cell below."
   ]
  },
  {
   "cell_type": "code",
   "execution_count": 0,
   "metadata": {
    "application/vnd.databricks.v1+cell": {
     "cellMetadata": {
      "byteLimit": 2048000,
      "rowLimit": 10000
     },
     "inputWidgets": {},
     "nuid": "62460a2c-f029-458f-b31a-3e0fccde4487",
     "showTitle": true,
     "tableResultSettingsMap": {},
     "title": "install faker"
    }
   },
   "outputs": [
    {
     "output_type": "stream",
     "name": "stdout",
     "output_type": "stream",
     "text": [
      "Requirement already satisfied: faker in /local_disk0/.ephemeral_nfs/envs/pythonEnv-a3f4afa9-d67d-4f91-a7d8-b8dd82e8bf4d/lib/python3.11/site-packages (37.5.3)\nRequirement already satisfied: tzdata in /databricks/python3/lib/python3.11/site-packages (from faker) (2022.1)\n\u001B[43mNote: you may need to restart the kernel using %restart_python or dbutils.library.restartPython() to use updated packages.\u001B[0m\n"
     ]
    }
   ],
   "source": [
    "%pip install faker"
   ]
  },
  {
   "cell_type": "markdown",
   "metadata": {
    "application/vnd.databricks.v1+cell": {
     "cellMetadata": {
      "byteLimit": 2048000,
      "rowLimit": 10000
     },
     "inputWidgets": {},
     "nuid": "6c4091ff-7289-492e-b873-4b5be1bbe777",
     "showTitle": false,
     "tableResultSettingsMap": {},
     "title": ""
    }
   },
   "source": [
    "## Variable\n",
    "- number of rows to be generated, default is 5:\n",
    "  - feel free to change it to number of rows that you want to generate.\n",
    "- click on the \"Run cell\" button to set the variable."
   ]
  },
  {
   "cell_type": "code",
   "execution_count": 0,
   "metadata": {
    "application/vnd.databricks.v1+cell": {
     "cellMetadata": {
      "byteLimit": 2048000,
      "rowLimit": 10000
     },
     "inputWidgets": {},
     "nuid": "7c69a28e-cb0c-4807-9371-7938de0c5da7",
     "showTitle": true,
     "tableResultSettingsMap": {},
     "title": "NUMBER_OF_ROWS"
    }
   },
   "outputs": [],
   "source": [
    "NUMBER_OF_ROWS = 5"
   ]
  },
  {
   "cell_type": "markdown",
   "metadata": {
    "application/vnd.databricks.v1+cell": {
     "cellMetadata": {
      "byteLimit": 2048000,
      "rowLimit": 10000
     },
     "inputWidgets": {},
     "nuid": "0cc48c90-0f5b-40e8-9855-58e3a19ff6c5",
     "showTitle": false,
     "tableResultSettingsMap": {},
     "title": ""
    }
   },
   "source": [
    "## Quick Test Data Generation\n",
    "Faker python package provides a quick method called profile() to generate a list of user profiles.\n",
    "\n",
    "spark.createDataFrame() is used to store the generated Test Data in memory.\n",
    "Data can be downloaded as csv or excel by clicking the button at the bottom of result.\n",
    "\n",
    "Or, data can be stored in Unity Catalog as delta table (not shown in this notebook).\n",
    "\n",
    "Click on the \"Run cell\" button on the top left corner of cell below to generate test data."
   ]
  },
  {
   "cell_type": "code",
   "execution_count": 0,
   "metadata": {
    "application/vnd.databricks.v1+cell": {
     "cellMetadata": {
      "byteLimit": 2048000,
      "rowLimit": 10000
     },
     "inputWidgets": {},
     "nuid": "966e4d1e-aeec-4e8d-bdbd-4eec02a374b7",
     "showTitle": true,
     "tableResultSettingsMap": {},
     "title": "fake.profile()"
    }
   },
   "outputs": [],
   "source": [
    "from faker import Faker\n",
    "\n",
    "Faker.seed(0)\n",
    "fake = Faker(\"en_CA\")\n",
    "\n",
    "data = [fake.profile() for _ in range(NUMBER_OF_ROWS)]\n",
    "\n",
    "df = spark.createDataFrame(data=data)\n",
    "display(df)"
   ]
  },
  {
   "cell_type": "markdown",
   "metadata": {
    "application/vnd.databricks.v1+cell": {
     "cellMetadata": {
      "byteLimit": 2048000,
      "rowLimit": 10000
     },
     "inputWidgets": {},
     "nuid": "541b9293-bef2-4a2a-a9d0-fa59e928aa06",
     "showTitle": false,
     "tableResultSettingsMap": {},
     "title": ""
    }
   },
   "source": [
    "## Customized Test Data Generation\n",
    "The cell below contains python code to generate Test Data based on the requirements below:\n",
    "\n",
    "| Seq | Columns | Meaning | Example |\n",
    "| :------- | :------: | -------: | -------: |\n",
    "| 1 | Member_ID | Unique Identifier prefix with MID and six numeric from 111111 to 999999 | MID123456 |\n",
    "| 2 | Role | 5% of chance = Director <br> 15% of chance = Music Composer <br> 20% of chance = Background Artist <br> 30% of chance = Character Design <br> 30% of chance = Voice Acting | Voice Acting |\n",
    "| 3 | User_Name | Random Unique name without space | dhzoey |\n",
    "| 4 | First_Name | Random Canadian English First Name | Celine |\n",
    "| 5 | Last_Name | Random Canadian English Last Name | Myers |\n",
    "| 6 | Birth_Date | Birth Date between Age of 18 to 65 as of this year | 1982-07-02 |\n",
    "| 7 | SIN | Random 9 digit numeric mimic Canadian SIN | 774 564 306 |\n",
    "| 8 | Pronounce | Random selection of either \"He/Him\", \"She/Her\", \"They/Them\" | They/Them |\n",
    "| 9 | Dream_Job | Random occupation name | Fashion designer |\n",
    "| 10 | Start_Date | A random date from yesterday to 10 years ago | 2023-08-15 |\n",
    "| 11 | Phone_Number | A random fake Canadian phone number | (492) 411-5781 x565 |\n",
    "| 12 | Mailing_Address | A random fake Canadian address | 408 Christopher Ville Suite 097 Johnmouth, SK J3K 9K8 |\n",
    "| 13 | Office_Address | Random Street Address, <br> Random selection of either \"Toronto\", \"Vaughan\", or \"Guelph\", <br> Harcoded ON as province, <br> Random Postal Code | 58714 Mann Plaza, Toronto ON Y2M 7T6 |\n",
    "\n",
    "spark.createDataFrame() is used to store the generated Test Data in memory as spark DataFrame format.\n",
    "Data can be downloaded as csv or excel by clicking the button at the bottom of result.\n",
    "\n",
    "Or, data can be stored in Unity Catalog as delta table (not shown in this notebook).\n",
    "\n",
    "Click on the \"Run cell\" button on the top left corner of cell below to generate test data."
   ]
  },
  {
   "cell_type": "code",
   "execution_count": 0,
   "metadata": {
    "application/vnd.databricks.v1+cell": {
     "cellMetadata": {
      "byteLimit": 2048000,
      "rowLimit": 10000
     },
     "inputWidgets": {},
     "nuid": "a353eaf4-2963-44db-bc05-125769ab5e47",
     "showTitle": true,
     "tableResultSettingsMap": {
      "0": {
       "dataGridStateBlob": "{\"version\":1,\"tableState\":{\"columnPinning\":{\"left\":[\"#row_number#\"],\"right\":[]},\"columnSizing\":{},\"columnVisibility\":{}},\"settings\":{\"columns\":{}},\"syncTimestamp\":1755474082142}",
       "filterBlob": null,
       "queryPlanFiltersBlob": null,
       "tableResultIndex": 0
      }
     },
     "title": "Generate custom Test Data"
    }
   },
   "outputs": [
    {
     "output_type": "display_data",
     "data": {
      "text/html": [
       "<style scoped>\n",
       "  .table-result-container {\n",
       "    max-height: 300px;\n",
       "    overflow: auto;\n",
       "  }\n",
       "  table, th, td {\n",
       "    border: 1px solid black;\n",
       "    border-collapse: collapse;\n",
       "  }\n",
       "  th, td {\n",
       "    padding: 5px;\n",
       "  }\n",
       "  th {\n",
       "    text-align: left;\n",
       "  }\n",
       "</style><div class='table-result-container'><table class='table-result'><thead style='background-color: white'><tr><th>Member_ID</th><th>Role</th><th>User_Name</th><th>First_Name</th><th>Last_Name</th><th>Birth_Date</th><th>SIN</th><th>Pronounce</th><th>Dream_Job</th><th>Start_Date</th><th>Phone_Number</th><th>Mailing_Address</th><th>Office_Address</th></tr></thead><tbody><tr><td>MID996551</td><td>Background Artist</td><td>gwilliams</td><td>Todd</td><td>Hull</td><td>1999-06-17</td><td>774 564 306</td><td>He/Him</td><td>Water engineer</td><td>2023-08-15</td><td>(492) 411-5781 x565</td><td>408 Christopher Ville Suite 097\n",
       "Johnmouth, SK J3K 9K8</td><td>58714 Mann Plaza, Toronto ON Y2M 7T6</td></tr><tr><td>MID714724</td><td>Background Artist</td><td>jaimelopez</td><td>Chloe</td><td>Douglas</td><td>1982-07-02</td><td>118 056 738</td><td>They/Them</td><td>Fashion designer</td><td>2024-02-14</td><td>+1 (894) 775-1591</td><td>04135 Marvin Via\n",
       "North Kristabury, AB A2E 7J2</td><td>09032 Timothy Stream Apt. 086, Vaughan ON C5K6C7</td></tr><tr><td>MID300188</td><td>Music Composer</td><td>gwilliams</td><td>Holly</td><td>Myers</td><td>1972-02-11</td><td>715 310 868</td><td>He/Him</td><td>Lighting technician, broadcasting/film/video</td><td>2020-12-02</td><td>697.207.6984</td><td>80715 Amy Dale Apt. 759\n",
       "Emilyshire, QC M2R 1S4</td><td>33769 Johnson Well Suite 027, Toronto ON T9X 1V1</td></tr><tr><td>MID629718</td><td>Background Artist</td><td>zwilliams</td><td>Robert</td><td>Dunn</td><td>2005-11-07</td><td>110 658 622</td><td>He/Him</td><td>Accountant, chartered</td><td>2025-06-05</td><td>(291) 319-3442 x176</td><td>1428 Wilson Drives Suite 000\n",
       "Lake Jordan, NT B7V6T9</td><td>69402 Joseph Junction, Vaughan ON N5B 3B3</td></tr><tr><td>MID722903</td><td>Background Artist</td><td>ihays</td><td>Kelly</td><td>Woods</td><td>1971-02-18</td><td>021 881 669</td><td>She/Her</td><td>Patent examiner</td><td>2016-09-17</td><td>(377) 551-7176 x045</td><td>111 Kara Circle Suite 016\n",
       "Shanefort, YT S4C 5P3</td><td>51108 Goodwin Flats Apt. 764, Toronto ON J4G 8E7</td></tr></tbody></table></div>"
      ]
     },
     "metadata": {
      "application/vnd.databricks.v1+output": {
       "addedWidgets": {},
       "aggData": [],
       "aggError": "",
       "aggOverflow": false,
       "aggSchema": [],
       "aggSeriesLimitReached": false,
       "aggType": "",
       "arguments": {},
       "columnCustomDisplayInfos": {},
       "data": [
        [
         "MID996551",
         "Background Artist",
         "gwilliams",
         "Todd",
         "Hull",
         "1999-06-17",
         "774 564 306",
         "He/Him",
         "Water engineer",
         "2023-08-15",
         "(492) 411-5781 x565",
         "408 Christopher Ville Suite 097\nJohnmouth, SK J3K 9K8",
         "58714 Mann Plaza, Toronto ON Y2M 7T6"
        ],
        [
         "MID714724",
         "Background Artist",
         "jaimelopez",
         "Chloe",
         "Douglas",
         "1982-07-02",
         "118 056 738",
         "They/Them",
         "Fashion designer",
         "2024-02-14",
         "+1 (894) 775-1591",
         "04135 Marvin Via\nNorth Kristabury, AB A2E 7J2",
         "09032 Timothy Stream Apt. 086, Vaughan ON C5K6C7"
        ],
        [
         "MID300188",
         "Music Composer",
         "gwilliams",
         "Holly",
         "Myers",
         "1972-02-11",
         "715 310 868",
         "He/Him",
         "Lighting technician, broadcasting/film/video",
         "2020-12-02",
         "697.207.6984",
         "80715 Amy Dale Apt. 759\nEmilyshire, QC M2R 1S4",
         "33769 Johnson Well Suite 027, Toronto ON T9X 1V1"
        ],
        [
         "MID629718",
         "Background Artist",
         "zwilliams",
         "Robert",
         "Dunn",
         "2005-11-07",
         "110 658 622",
         "He/Him",
         "Accountant, chartered",
         "2025-06-05",
         "(291) 319-3442 x176",
         "1428 Wilson Drives Suite 000\nLake Jordan, NT B7V6T9",
         "69402 Joseph Junction, Vaughan ON N5B 3B3"
        ],
        [
         "MID722903",
         "Background Artist",
         "ihays",
         "Kelly",
         "Woods",
         "1971-02-18",
         "021 881 669",
         "She/Her",
         "Patent examiner",
         "2016-09-17",
         "(377) 551-7176 x045",
         "111 Kara Circle Suite 016\nShanefort, YT S4C 5P3",
         "51108 Goodwin Flats Apt. 764, Toronto ON J4G 8E7"
        ]
       ],
       "datasetInfos": [],
       "dbfsResultPath": null,
       "isJsonSchema": true,
       "metadata": {},
       "overflow": false,
       "plotOptions": {
        "customPlotOptions": {},
        "displayType": "table",
        "pivotAggregation": null,
        "pivotColumns": null,
        "xColumns": null,
        "yColumns": null
       },
       "removedWidgets": [],
       "schema": [
        {
         "metadata": "{}",
         "name": "Member_ID",
         "type": "\"string\""
        },
        {
         "metadata": "{}",
         "name": "Role",
         "type": "\"string\""
        },
        {
         "metadata": "{}",
         "name": "User_Name",
         "type": "\"string\""
        },
        {
         "metadata": "{}",
         "name": "First_Name",
         "type": "\"string\""
        },
        {
         "metadata": "{}",
         "name": "Last_Name",
         "type": "\"string\""
        },
        {
         "metadata": "{}",
         "name": "Birth_Date",
         "type": "\"date\""
        },
        {
         "metadata": "{}",
         "name": "SIN",
         "type": "\"string\""
        },
        {
         "metadata": "{}",
         "name": "Pronounce",
         "type": "\"string\""
        },
        {
         "metadata": "{}",
         "name": "Dream_Job",
         "type": "\"string\""
        },
        {
         "metadata": "{}",
         "name": "Start_Date",
         "type": "\"date\""
        },
        {
         "metadata": "{}",
         "name": "Phone_Number",
         "type": "\"string\""
        },
        {
         "metadata": "{}",
         "name": "Mailing_Address",
         "type": "\"string\""
        },
        {
         "metadata": "{}",
         "name": "Office_Address",
         "type": "\"string\""
        }
       ],
       "type": "table"
      }
     },
     "output_type": "display_data"
    },
    {
     "output_type": "display_data",
     "data": {
      "text/plain": [
       "\u001B[0;31m---------------------------------------------------------------------------\u001B[0m\n",
       "\u001B[0;31mNameError\u001B[0m                                 Traceback (most recent call last)\n",
       "File \u001B[0;32m<command-7961196042947182>, line 38\u001B[0m\n",
       "\u001B[1;32m     32\u001B[0m office_choices \u001B[38;5;241m=\u001B[39m OrderedDict([\n",
       "\u001B[1;32m     33\u001B[0m     (\u001B[38;5;124m\"\u001B[39m\u001B[38;5;124mToronto\u001B[39m\u001B[38;5;124m\"\u001B[39m, \u001B[38;5;241m0.60\u001B[39m), \n",
       "\u001B[1;32m     34\u001B[0m     (\u001B[38;5;124m\"\u001B[39m\u001B[38;5;124mVaughan\u001B[39m\u001B[38;5;124m\"\u001B[39m, \u001B[38;5;241m0.30\u001B[39m), \n",
       "\u001B[1;32m     35\u001B[0m     (\u001B[38;5;124m\"\u001B[39m\u001B[38;5;124mGuelph\u001B[39m\u001B[38;5;124m\"\u001B[39m, \u001B[38;5;241m0.10\u001B[39m), \n",
       "\u001B[1;32m     36\u001B[0m ])\n",
       "\u001B[1;32m     37\u001B[0m data \u001B[38;5;241m=\u001B[39m []\n",
       "\u001B[0;32m---> 38\u001B[0m \u001B[38;5;28;01mfor\u001B[39;00m row \u001B[38;5;129;01min\u001B[39;00m \u001B[38;5;28mrange\u001B[39m(number_of_rows):\n",
       "\u001B[1;32m     39\u001B[0m     data\u001B[38;5;241m.\u001B[39mappend(\n",
       "\u001B[1;32m     40\u001B[0m         (\n",
       "\u001B[1;32m     41\u001B[0m             prefix_mID \u001B[38;5;241m+\u001B[39m \u001B[38;5;28mstr\u001B[39m(fake\u001B[38;5;241m.\u001B[39munique\u001B[38;5;241m.\u001B[39mrandom_int(\u001B[38;5;28mmin\u001B[39m\u001B[38;5;241m=\u001B[39m\u001B[38;5;241m111111\u001B[39m, \u001B[38;5;28mmax\u001B[39m\u001B[38;5;241m=\u001B[39m\u001B[38;5;241m999999\u001B[39m)),\n",
       "\u001B[0;32m   (...)\u001B[0m\n",
       "\u001B[1;32m     58\u001B[0m         )\n",
       "\u001B[1;32m     59\u001B[0m     )\n",
       "\u001B[1;32m     60\u001B[0m df \u001B[38;5;241m=\u001B[39m spark\u001B[38;5;241m.\u001B[39mcreateDataFrame(schema\u001B[38;5;241m=\u001B[39mschema,data\u001B[38;5;241m=\u001B[39mdata)\n",
       "\n",
       "\u001B[0;31mNameError\u001B[0m: name 'number_of_rows' is not defined"
      ]
     },
     "metadata": {
      "application/vnd.databricks.v1+output": {
       "addedWidgets": {},
       "arguments": {},
       "datasetInfos": [],
       "jupyterProps": {
        "ename": "NameError",
        "evalue": "name 'number_of_rows' is not defined"
       },
       "metadata": {
        "errorSummary": ""
       },
       "removedWidgets": [],
       "sqlProps": null,
       "stackFrames": [
        "\u001B[0;31m---------------------------------------------------------------------------\u001B[0m",
        "\u001B[0;31mNameError\u001B[0m                                 Traceback (most recent call last)",
        "File \u001B[0;32m<command-7961196042947182>, line 38\u001B[0m\n\u001B[1;32m     32\u001B[0m office_choices \u001B[38;5;241m=\u001B[39m OrderedDict([\n\u001B[1;32m     33\u001B[0m     (\u001B[38;5;124m\"\u001B[39m\u001B[38;5;124mToronto\u001B[39m\u001B[38;5;124m\"\u001B[39m, \u001B[38;5;241m0.60\u001B[39m), \n\u001B[1;32m     34\u001B[0m     (\u001B[38;5;124m\"\u001B[39m\u001B[38;5;124mVaughan\u001B[39m\u001B[38;5;124m\"\u001B[39m, \u001B[38;5;241m0.30\u001B[39m), \n\u001B[1;32m     35\u001B[0m     (\u001B[38;5;124m\"\u001B[39m\u001B[38;5;124mGuelph\u001B[39m\u001B[38;5;124m\"\u001B[39m, \u001B[38;5;241m0.10\u001B[39m), \n\u001B[1;32m     36\u001B[0m ])\n\u001B[1;32m     37\u001B[0m data \u001B[38;5;241m=\u001B[39m []\n\u001B[0;32m---> 38\u001B[0m \u001B[38;5;28;01mfor\u001B[39;00m row \u001B[38;5;129;01min\u001B[39;00m \u001B[38;5;28mrange\u001B[39m(number_of_rows):\n\u001B[1;32m     39\u001B[0m     data\u001B[38;5;241m.\u001B[39mappend(\n\u001B[1;32m     40\u001B[0m         (\n\u001B[1;32m     41\u001B[0m             prefix_mID \u001B[38;5;241m+\u001B[39m \u001B[38;5;28mstr\u001B[39m(fake\u001B[38;5;241m.\u001B[39munique\u001B[38;5;241m.\u001B[39mrandom_int(\u001B[38;5;28mmin\u001B[39m\u001B[38;5;241m=\u001B[39m\u001B[38;5;241m111111\u001B[39m, \u001B[38;5;28mmax\u001B[39m\u001B[38;5;241m=\u001B[39m\u001B[38;5;241m999999\u001B[39m)),\n\u001B[0;32m   (...)\u001B[0m\n\u001B[1;32m     58\u001B[0m         )\n\u001B[1;32m     59\u001B[0m     )\n\u001B[1;32m     60\u001B[0m df \u001B[38;5;241m=\u001B[39m spark\u001B[38;5;241m.\u001B[39mcreateDataFrame(schema\u001B[38;5;241m=\u001B[39mschema,data\u001B[38;5;241m=\u001B[39mdata)\n",
        "\u001B[0;31mNameError\u001B[0m: name 'number_of_rows' is not defined"
       ],
       "type": "baseError"
      }
     },
     "output_type": "display_data"
    }
   ],
   "source": [
    "from faker import Faker\n",
    "from collections import OrderedDict\n",
    "\n",
    "Faker.seed(0)\n",
    "fake = Faker(\"en_CA\")\n",
    "\n",
    "schema=[\n",
    "    \"Member_ID\",\n",
    "    \"Role\",\n",
    "    \"User_Name\",\n",
    "    \"First_Name\",\n",
    "    \"Last_Name\",\n",
    "    \"Birth_Date\",\n",
    "    \"SIN\",\n",
    "    \"Pronounce\",\n",
    "    \"Dream_Job\",\n",
    "    \"Start_Date\",\n",
    "    \"Phone_Number\",\n",
    "    \"Mailing_Address\",\n",
    "    \"Office_Address\",\n",
    "]\n",
    "\n",
    "prefix_mID = 'MID'\n",
    "pronouce_choices = [(\"He/Him\"), (\"She/Her\"), (\"They/Them\")]\n",
    "role_choices = OrderedDict([\n",
    "    (\"Director\", 0.05), \n",
    "    (\"Music Composer\", 0.15), \n",
    "    (\"Background Artist\", 0.20), \n",
    "    (\"Character Design\", 0.30), \n",
    "    (\"Voice Acting\", 0.30)\n",
    "])\n",
    "office_choices = OrderedDict([\n",
    "    (\"Toronto\", 0.60), \n",
    "    (\"Vaughan\", 0.30), \n",
    "    (\"Guelph\", 0.10), \n",
    "])\n",
    "data = []\n",
    "for row in range(NUMBER_OF_ROWS):\n",
    "    data.append(\n",
    "        (\n",
    "            prefix_mID + str(fake.unique.random_int(min=111111, max=999999)),\n",
    "            fake.random_element(role_choices),\n",
    "            fake.user_name(),\n",
    "            fake.first_name(),\n",
    "            fake.last_name(),\n",
    "            fake.date_of_birth(minimum_age=18, maximum_age=65),\n",
    "            fake.ssn(),\n",
    "            fake.random_element(pronouce_choices),\n",
    "            fake.job(),\n",
    "            fake.date_between(start_date='-10y',end_date='-1d'),\n",
    "            fake.phone_number(),\n",
    "            fake.address(), \n",
    "            \"{}, {} ON {}\".format(\n",
    "                fake.street_address(), \n",
    "                fake.random_element(office_choices), \n",
    "                fake.postcode(),         \n",
    "            ),\n",
    "        )\n",
    "    )\n",
    "df = spark.createDataFrame(schema=schema,data=data)\n",
    "display(df)"
   ]
  },
  {
   "cell_type": "markdown",
   "metadata": {
    "application/vnd.databricks.v1+cell": {
     "cellMetadata": {
      "byteLimit": 2048000,
      "rowLimit": 10000
     },
     "inputWidgets": {},
     "nuid": "bca68b2b-afa9-4076-8949-7f40635144a6",
     "showTitle": false,
     "tableResultSettingsMap": {},
     "title": ""
    }
   },
   "source": [
    "## Try it yourself Guide\n",
    "\n",
    "1. How many records? Change the value in cell 7 \n",
    "1. Define your requirements. Write it down.\n",
    "1. In the cell below, change schema to your column names.\n",
    "1. In the same cell, change prefix to your own.\n",
    "1. In the same cell, change choices.\n",
    "1. In the same cell, change date.append() based on your requirement.\n",
    "   - reference: https://faker.readthedocs.io/en/master/providers.html\n",
    "1. Run the cell.\n",
    "\n",
    "Example:\n",
    "1. Generate 100 rows, Update in cell 7, ```NUMBER_OF_ROWS = 100```\n",
    "1. Example of requirement\n",
    "| Seq | Columns | Meaning | Example |\n",
    "| :------- | :------: | -------: | -------: |\n",
    "| 1 | CID | Unique Identifier prefix with CID and six numeric from 1000 to 5000 | CID4458 |\n",
    "| 2 | Company | Random Company Name | Chang-Fisher |\n",
    "| 3 | Website | Random URL | https://www.jones.net/ |\n",
    "| 4 | IP_Address | Random Public IPv4 Address | 182.253.123.155 |\n",
    "| 5 | Geo_Latitude | Random Latitude, centre of 45.44868, radius less than 10.0 | 45.683023 |\n",
    "| 6 | Geo_Longitude | Random Longitude, centre of -75.44868, radius less than 10.0 | -73.076634 |\n",
    "| 7 | Industry | 30% of chance = Healthcare <br> 20% of chance = Tourism <br> 50% of chance = Manufacturing | Manufacturing |\n",
    "| 7 | Established_Date | Random Date between 25 years ago and 1 week ago | 2012-07-18 |\n",
    "1. Update schema to\n",
    "   ```\n",
    "    schema = [\n",
    "        \"CID\",\n",
    "        \"Company\", \n",
    "        \"Website\", \n",
    "        \"IP_Address\", \n",
    "        \"Geo_Latitude\", \n",
    "        \"Geo_Longitude\",\n",
    "        \"Industry\",\n",
    "        \"Established_Date\",\n",
    "    ]\n",
    "   ```\n",
    "1. Update prefix ```prefix_CID = 'CID'```\n",
    "1. Update choices\n",
    "   ```\n",
    "    industry_choices = OrderedDict([\n",
    "        (\"Healthcare\", 0.30), \n",
    "        (\"Tourism\", 0.20), \n",
    "        (\"Manufacturing\", 0.50), \n",
    "    ])\n",
    "   ```\n",
    "1. Update data.append to\n",
    "   ```\n",
    "    data.append(\n",
    "        (\n",
    "            prefix_CID + str(fake.unique.random_int(min=1000, max=5000)),\n",
    "            fake.company(),\n",
    "            fake.url(),\n",
    "            fake.ipv4_public(),\n",
    "            fake.coordinate(center=45.44868, radius=10.0),\n",
    "            fake.coordinate(center=-75.44868, radius=10.0),\n",
    "            fake.random_element(industry_choices),\n",
    "            fake.date_between(start_date='-25y', end_date='-1w')\n",
    "        )\n",
    "     )\n",
    "    ```\n",
    "1. Click on the \"Run cell\" button on the top left corner of cell below to generate test data."
   ]
  },
  {
   "cell_type": "code",
   "execution_count": 0,
   "metadata": {
    "application/vnd.databricks.v1+cell": {
     "cellMetadata": {
      "byteLimit": 2048000,
      "rowLimit": 10000
     },
     "inputWidgets": {},
     "nuid": "d983b2ad-c6b5-46f1-889d-6078ea740e3d",
     "showTitle": true,
     "tableResultSettingsMap": {
      "0": {
       "dataGridStateBlob": "{\"version\":1,\"tableState\":{\"columnPinning\":{\"left\":[\"#row_number#\"],\"right\":[]},\"columnSizing\":{},\"columnVisibility\":{}},\"settings\":{\"columns\":{\"Website\":{\"format\":{\"preset\":\"string-preset-url\"}}}},\"syncTimestamp\":1755547406909}",
       "filterBlob": null,
       "queryPlanFiltersBlob": null,
       "tableResultIndex": 0
      }
     },
     "title": "try it out"
    }
   },
   "outputs": [
    {
     "output_type": "display_data",
     "data": {
      "text/html": [
       "<style scoped>\n",
       "  .table-result-container {\n",
       "    max-height: 300px;\n",
       "    overflow: auto;\n",
       "  }\n",
       "  table, th, td {\n",
       "    border: 1px solid black;\n",
       "    border-collapse: collapse;\n",
       "  }\n",
       "  th, td {\n",
       "    padding: 5px;\n",
       "  }\n",
       "  th {\n",
       "    text-align: left;\n",
       "  }\n",
       "</style><div class='table-result-container'><table class='table-result'><thead style='background-color: white'><tr><th>CID</th><th>Company</th><th>Website</th><th>IP_Address</th><th>Geo_Latitude</th><th>Geo_Longitude</th><th>Industry</th><th>Established_Date</th></tr></thead><tbody><tr><td>CID4458</td><td>Chang-Fisher</td><td>https://hull-gallegos.info/</td><td>182.253.123.155</td><td>45.683023000000000000</td><td>-86.356788000000000000</td><td>Manufacturing</td><td>2016-01-28</td></tr><tr><td>CID2026</td><td>Mcgrath, Patrick and Barrera</td><td>https://www.jones.net/</td><td>103.67.201.17</td><td>50.993029000000000000</td><td>-54.798127000000000000</td><td>Manufacturing</td><td>2012-07-18</td></tr><tr><td>CID4544</td><td>Green, Trujillo and Dunn</td><td>http://www.larsen.com/</td><td>218.169.11.4</td><td>32.644224000000000000</td><td>-84.188462000000000000</td><td>Manufacturing</td><td>2005-05-27</td></tr><tr><td>CID3324</td><td>Allen and Sons</td><td>https://www.kaiser.info/</td><td>108.168.78.176</td><td>55.776750000000000000</td><td>-73.076634000000000000</td><td>Manufacturing</td><td>2014-02-15</td></tr><tr><td>CID4947</td><td>Payne, Roberts and Davis</td><td>https://allen.com/</td><td>198.194.147.11</td><td>44.275230000000000000</td><td>-95.957462000000000000</td><td>Manufacturing</td><td>2022-07-13</td></tr></tbody></table></div>"
      ]
     },
     "metadata": {
      "application/vnd.databricks.v1+output": {
       "addedWidgets": {},
       "aggData": [],
       "aggError": "",
       "aggOverflow": false,
       "aggSchema": [],
       "aggSeriesLimitReached": false,
       "aggType": "",
       "arguments": {},
       "columnCustomDisplayInfos": {},
       "data": [
        [
         "CID4458",
         "Chang-Fisher",
         "https://hull-gallegos.info/",
         "182.253.123.155",
         "45.683023000000000000",
         "-86.356788000000000000",
         "Manufacturing",
         "2016-01-28"
        ],
        [
         "CID2026",
         "Mcgrath, Patrick and Barrera",
         "https://www.jones.net/",
         "103.67.201.17",
         "50.993029000000000000",
         "-54.798127000000000000",
         "Manufacturing",
         "2012-07-18"
        ],
        [
         "CID4544",
         "Green, Trujillo and Dunn",
         "http://www.larsen.com/",
         "218.169.11.4",
         "32.644224000000000000",
         "-84.188462000000000000",
         "Manufacturing",
         "2005-05-27"
        ],
        [
         "CID3324",
         "Allen and Sons",
         "https://www.kaiser.info/",
         "108.168.78.176",
         "55.776750000000000000",
         "-73.076634000000000000",
         "Manufacturing",
         "2014-02-15"
        ],
        [
         "CID4947",
         "Payne, Roberts and Davis",
         "https://allen.com/",
         "198.194.147.11",
         "44.275230000000000000",
         "-95.957462000000000000",
         "Manufacturing",
         "2022-07-13"
        ]
       ],
       "datasetInfos": [],
       "dbfsResultPath": null,
       "isJsonSchema": true,
       "metadata": {},
       "overflow": false,
       "plotOptions": {
        "customPlotOptions": {},
        "displayType": "table",
        "pivotAggregation": null,
        "pivotColumns": null,
        "xColumns": null,
        "yColumns": null
       },
       "removedWidgets": [],
       "schema": [
        {
         "metadata": "{}",
         "name": "CID",
         "type": "\"string\""
        },
        {
         "metadata": "{}",
         "name": "Company",
         "type": "\"string\""
        },
        {
         "metadata": "{}",
         "name": "Website",
         "type": "\"string\""
        },
        {
         "metadata": "{}",
         "name": "IP_Address",
         "type": "\"string\""
        },
        {
         "metadata": "{}",
         "name": "Geo_Latitude",
         "type": "\"decimal(38,18)\""
        },
        {
         "metadata": "{}",
         "name": "Geo_Longitude",
         "type": "\"decimal(38,18)\""
        },
        {
         "metadata": "{}",
         "name": "Industry",
         "type": "\"string\""
        },
        {
         "metadata": "{}",
         "name": "Established_Date",
         "type": "\"date\""
        }
       ],
       "type": "table"
      }
     },
     "output_type": "display_data"
    },
    {
     "output_type": "display_data",
     "data": {
      "text/plain": [
       "\u001B[0;31m---------------------------------------------------------------------------\u001B[0m\n",
       "\u001B[0;31mTypeError\u001B[0m                                 Traceback (most recent call last)\n",
       "File \u001B[0;32m<command-7730984465383758>, line 26\u001B[0m\n",
       "\u001B[1;32m     24\u001B[0m data \u001B[38;5;241m=\u001B[39m []\n",
       "\u001B[1;32m     25\u001B[0m \u001B[38;5;28;01mfor\u001B[39;00m row \u001B[38;5;129;01min\u001B[39;00m \u001B[38;5;28mrange\u001B[39m(NUMBER_OF_ROWS):\n",
       "\u001B[0;32m---> 26\u001B[0m     data\u001B[38;5;241m.\u001B[39mappend(\n",
       "\u001B[1;32m     27\u001B[0m         prefix_CID \u001B[38;5;241m+\u001B[39m \u001B[38;5;28mstr\u001B[39m(fake\u001B[38;5;241m.\u001B[39munique\u001B[38;5;241m.\u001B[39mrandom_int(\u001B[38;5;28mmin\u001B[39m\u001B[38;5;241m=\u001B[39m\u001B[38;5;241m1000\u001B[39m, \u001B[38;5;28mmax\u001B[39m\u001B[38;5;241m=\u001B[39m\u001B[38;5;241m5000\u001B[39m)),\n",
       "\u001B[1;32m     28\u001B[0m         fake\u001B[38;5;241m.\u001B[39mcompany(),\n",
       "\u001B[1;32m     29\u001B[0m         fake\u001B[38;5;241m.\u001B[39murl(),\n",
       "\u001B[1;32m     30\u001B[0m         fake\u001B[38;5;241m.\u001B[39mipv4_public(),\n",
       "\u001B[1;32m     31\u001B[0m         fake\u001B[38;5;241m.\u001B[39mcoordinate(center\u001B[38;5;241m=\u001B[39m\u001B[38;5;241m45.44868\u001B[39m, radius\u001B[38;5;241m=\u001B[39m\u001B[38;5;241m25.0\u001B[39m),\n",
       "\u001B[1;32m     32\u001B[0m         fake\u001B[38;5;241m.\u001B[39mcoordinate(center\u001B[38;5;241m=\u001B[39m\u001B[38;5;241m-\u001B[39m\u001B[38;5;241m75.44868\u001B[39m, radius\u001B[38;5;241m=\u001B[39m\u001B[38;5;241m25.0\u001B[39m),\n",
       "\u001B[1;32m     33\u001B[0m         fake\u001B[38;5;241m.\u001B[39mrandom_element(industry_choices),\n",
       "\u001B[1;32m     34\u001B[0m         fake\u001B[38;5;241m.\u001B[39mdate_between(start_date\u001B[38;5;241m=\u001B[39m\u001B[38;5;124m'\u001B[39m\u001B[38;5;124m-25y\u001B[39m\u001B[38;5;124m'\u001B[39m, end_date\u001B[38;5;241m=\u001B[39m\u001B[38;5;124m'\u001B[39m\u001B[38;5;124m-1w\u001B[39m\u001B[38;5;124m'\u001B[39m)\n",
       "\u001B[1;32m     35\u001B[0m     )\n",
       "\u001B[1;32m     37\u001B[0m df \u001B[38;5;241m=\u001B[39m spark\u001B[38;5;241m.\u001B[39mcreateDataFrame(schema\u001B[38;5;241m=\u001B[39mschema,data\u001B[38;5;241m=\u001B[39mdata)\n",
       "\u001B[1;32m     38\u001B[0m display(df)\n",
       "\n",
       "\u001B[0;31mTypeError\u001B[0m: list.append() takes exactly one argument (8 given)"
      ]
     },
     "metadata": {
      "application/vnd.databricks.v1+output": {
       "addedWidgets": {},
       "arguments": {},
       "datasetInfos": [],
       "jupyterProps": {
        "ename": "TypeError",
        "evalue": "list.append() takes exactly one argument (8 given)"
       },
       "metadata": {
        "errorSummary": ""
       },
       "removedWidgets": [],
       "sqlProps": null,
       "stackFrames": [
        "\u001B[0;31m---------------------------------------------------------------------------\u001B[0m",
        "\u001B[0;31mTypeError\u001B[0m                                 Traceback (most recent call last)",
        "File \u001B[0;32m<command-7730984465383758>, line 26\u001B[0m\n\u001B[1;32m     24\u001B[0m data \u001B[38;5;241m=\u001B[39m []\n\u001B[1;32m     25\u001B[0m \u001B[38;5;28;01mfor\u001B[39;00m row \u001B[38;5;129;01min\u001B[39;00m \u001B[38;5;28mrange\u001B[39m(NUMBER_OF_ROWS):\n\u001B[0;32m---> 26\u001B[0m     data\u001B[38;5;241m.\u001B[39mappend(\n\u001B[1;32m     27\u001B[0m         prefix_CID \u001B[38;5;241m+\u001B[39m \u001B[38;5;28mstr\u001B[39m(fake\u001B[38;5;241m.\u001B[39munique\u001B[38;5;241m.\u001B[39mrandom_int(\u001B[38;5;28mmin\u001B[39m\u001B[38;5;241m=\u001B[39m\u001B[38;5;241m1000\u001B[39m, \u001B[38;5;28mmax\u001B[39m\u001B[38;5;241m=\u001B[39m\u001B[38;5;241m5000\u001B[39m)),\n\u001B[1;32m     28\u001B[0m         fake\u001B[38;5;241m.\u001B[39mcompany(),\n\u001B[1;32m     29\u001B[0m         fake\u001B[38;5;241m.\u001B[39murl(),\n\u001B[1;32m     30\u001B[0m         fake\u001B[38;5;241m.\u001B[39mipv4_public(),\n\u001B[1;32m     31\u001B[0m         fake\u001B[38;5;241m.\u001B[39mcoordinate(center\u001B[38;5;241m=\u001B[39m\u001B[38;5;241m45.44868\u001B[39m, radius\u001B[38;5;241m=\u001B[39m\u001B[38;5;241m25.0\u001B[39m),\n\u001B[1;32m     32\u001B[0m         fake\u001B[38;5;241m.\u001B[39mcoordinate(center\u001B[38;5;241m=\u001B[39m\u001B[38;5;241m-\u001B[39m\u001B[38;5;241m75.44868\u001B[39m, radius\u001B[38;5;241m=\u001B[39m\u001B[38;5;241m25.0\u001B[39m),\n\u001B[1;32m     33\u001B[0m         fake\u001B[38;5;241m.\u001B[39mrandom_element(industry_choices),\n\u001B[1;32m     34\u001B[0m         fake\u001B[38;5;241m.\u001B[39mdate_between(start_date\u001B[38;5;241m=\u001B[39m\u001B[38;5;124m'\u001B[39m\u001B[38;5;124m-25y\u001B[39m\u001B[38;5;124m'\u001B[39m, end_date\u001B[38;5;241m=\u001B[39m\u001B[38;5;124m'\u001B[39m\u001B[38;5;124m-1w\u001B[39m\u001B[38;5;124m'\u001B[39m)\n\u001B[1;32m     35\u001B[0m     )\n\u001B[1;32m     37\u001B[0m df \u001B[38;5;241m=\u001B[39m spark\u001B[38;5;241m.\u001B[39mcreateDataFrame(schema\u001B[38;5;241m=\u001B[39mschema,data\u001B[38;5;241m=\u001B[39mdata)\n\u001B[1;32m     38\u001B[0m display(df)\n",
        "\u001B[0;31mTypeError\u001B[0m: list.append() takes exactly one argument (8 given)"
       ],
       "type": "baseError"
      }
     },
     "output_type": "display_data"
    }
   ],
   "source": [
    "from faker import Faker\n",
    "from collections import OrderedDict\n",
    "\n",
    "Faker.seed(0)\n",
    "fake = Faker(\"en_CA\")\n",
    "\n",
    "schema=[\n",
    "    \"CID\",\n",
    "    \"Company\", \n",
    "    \"Website\", \n",
    "    \"IP_Address\", \n",
    "    \"Geo_Latitude\", \n",
    "    \"Geo_Longitude\",\n",
    "    \"Industry\",\n",
    "    \"Established_Date\",\n",
    "]\n",
    "\n",
    "prefix_CID = 'CID'\n",
    "industry_choices = OrderedDict([\n",
    "    (\"Healthcare\", 0.30), \n",
    "    (\"Tourism\", 0.20), \n",
    "    (\"Manufacturing\", 0.50), \n",
    "])\n",
    "\n",
    "data = []\n",
    "for row in range(NUMBER_OF_ROWS):\n",
    "    data.append(\n",
    "        (\n",
    "            prefix_CID + str(fake.unique.random_int(min=1000, max=5000)),\n",
    "            fake.company(),\n",
    "            fake.url(),\n",
    "            fake.ipv4_public(),\n",
    "            fake.coordinate(center=45.44868, radius=10.0),\n",
    "            fake.coordinate(center=-75.44868, radius=10.0),\n",
    "            fake.random_element(industry_choices),\n",
    "            fake.date_between(start_date='-25y', end_date='-1w')\n",
    "        )\n",
    "    )\n",
    "            \n",
    "df = spark.createDataFrame(schema=schema,data=data)\n",
    "display(df)"
   ]
  },
  {
   "cell_type": "markdown",
   "metadata": {
    "application/vnd.databricks.v1+cell": {
     "cellMetadata": {
      "byteLimit": 2048000,
      "rowLimit": 10000
     },
     "inputWidgets": {},
     "nuid": "98b24805-379b-453e-9147-5a89467b5258",
     "showTitle": false,
     "tableResultSettingsMap": {},
     "title": ""
    }
   },
   "source": [
    "## End of the Tutorial\n",
    "This is the end of the Tutorial, thank you for reading."
   ]
  }
 ],
 "metadata": {
  "application/vnd.databricks.v1+notebook": {
   "computePreferences": {
    "hardware": {
     "accelerator": null,
     "gpuPoolId": null,
     "memory": null
    }
   },
   "dashboards": [],
   "environmentMetadata": {
    "base_environment": "",
    "environment_version": "2"
   },
   "inputWidgetPreferences": null,
   "language": "python",
   "notebookMetadata": {
    "pythonIndentUnit": 4
   },
   "notebookName": "odp fake animation team",
   "widgets": {}
  },
  "language_info": {
   "name": "python"
  }
 },
 "nbformat": 4,
 "nbformat_minor": 0
}