{
 "cells": [
  {
   "cell_type": "markdown",
   "metadata": {
    "application/vnd.databricks.v1+cell": {
     "cellMetadata": {
      "byteLimit": 2048000,
      "rowLimit": 10000
     },
     "inputWidgets": {},
     "nuid": "e12449e2-838c-487c-8d5b-3f96048d892f",
     "showTitle": false,
     "tableResultSettingsMap": {},
     "title": ""
    }
   },
   "source": [
    "## Introduction\n",
    "\n",
    "The goal of this notebook is to demonstrate how fake Test Data can be generated using Python. I am using Databricks Free Edition because everyone with a Google or Microsoft account can sign up easily. The notebook and python packages are open source and free, it can be used in any service with python notebook capability or locally on your computer.\n",
    "\n",
    "## Structure of this Tutorial\n",
    "1. Short introduction of a Fake Story\n",
    "1. Quick introduction of Faker python lirary \n",
    "1. Installation of Faker python library\n",
    "1. Quick Test Data Generation\n",
    "1. Customized Test Data Generation\n",
    "1. Try it yourself Guide\n",
    "\n"
   ]
  },
  {
   "cell_type": "markdown",
   "metadata": {
    "application/vnd.databricks.v1+cell": {
     "cellMetadata": {
      "byteLimit": 2048000,
      "rowLimit": 10000
     },
     "inputWidgets": {},
     "nuid": "b883e118-b0cc-4c72-875e-1916d63bd845",
     "showTitle": false,
     "tableResultSettingsMap": {},
     "title": ""
    }
   },
   "source": [
    "## Fake Story\n",
    "ODP is producing an animation titled \"Liberator of Data\", we would like to know more about our talents, examples: number of music composers, hidden talents, etc."
   ]
  },
  {
   "cell_type": "markdown",
   "metadata": {
    "application/vnd.databricks.v1+cell": {
     "cellMetadata": {
      "byteLimit": 2048000,
      "rowLimit": 10000
     },
     "inputWidgets": {},
     "nuid": "c4dc55af-5da7-4760-9542-9a6a9d9459b8",
     "showTitle": false,
     "tableResultSettingsMap": {},
     "title": ""
    }
   },
   "source": [
    "## Faker Python Package\n",
    "Faker is a Python package that generates fake data. \n",
    "Use case: Test Data for Proof of Concept, Data Anonymization.\n",
    "\n",
    "[Faker documentation](https://faker.readthedocs.io)\n",
    "\n",
    "Install Faker python package:\n",
    "`%pip install faker`\n",
    "\n",
    "Quick Start\n",
    "```\n",
    "from faker import Faker\n",
    "\n",
    "# seed integer is to used to make sure same values are generated if run again\n",
    "Faker.seed(0)\n",
    "# locale is to make sure data is generated related to Canada, like address.\n",
    "fake = Faker(\"en_CA\")\n",
    "```\n"
   ]
  },
  {
   "cell_type": "markdown",
   "metadata": {
    "application/vnd.databricks.v1+cell": {
     "cellMetadata": {
      "byteLimit": 2048000,
      "rowLimit": 10000
     },
     "inputWidgets": {},
     "nuid": "2c3ed1bb-cee1-4822-9e1e-a966e4a2bdd9",
     "showTitle": false,
     "tableResultSettingsMap": {},
     "title": ""
    }
   },
   "source": [
    "## Installation of Faker python package\n",
    "- click on the \"Run cell\" button on the top left corner of the cell below."
   ]
  },
  {
   "cell_type": "code",
   "execution_count": 0,
   "metadata": {
    "application/vnd.databricks.v1+cell": {
     "cellMetadata": {
      "byteLimit": 2048000,
      "rowLimit": 10000
     },
     "inputWidgets": {},
     "nuid": "62460a2c-f029-458f-b31a-3e0fccde4487",
     "showTitle": true,
     "tableResultSettingsMap": {},
     "title": "install faker"
    }
   },
   "outputs": [
    {
     "output_type": "stream",
     "name": "stdout",
     "output_type": "stream",
     "text": [
      "Requirement already satisfied: faker in /local_disk0/.ephemeral_nfs/envs/pythonEnv-e3849f1c-21a1-4ff1-9a5a-580dba975e01/lib/python3.11/site-packages (37.5.3)\nRequirement already satisfied: tzdata in /databricks/python3/lib/python3.11/site-packages (from faker) (2022.1)\n\u001B[43mNote: you may need to restart the kernel using %restart_python or dbutils.library.restartPython() to use updated packages.\u001B[0m\n"
     ]
    }
   ],
   "source": [
    "%pip install faker"
   ]
  },
  {
   "cell_type": "markdown",
   "metadata": {
    "application/vnd.databricks.v1+cell": {
     "cellMetadata": {
      "byteLimit": 2048000,
      "rowLimit": 10000
     },
     "inputWidgets": {},
     "nuid": "6c4091ff-7289-492e-b873-4b5be1bbe777",
     "showTitle": false,
     "tableResultSettingsMap": {},
     "title": ""
    }
   },
   "source": [
    "## Variable\n",
    "- number of rows to be generated, default is 5:\n",
    "  - feel free to change it to number of rows that you want to generate.\n",
    "- click on the \"Run cell\" button to set the variable."
   ]
  },
  {
   "cell_type": "code",
   "execution_count": 0,
   "metadata": {
    "application/vnd.databricks.v1+cell": {
     "cellMetadata": {
      "byteLimit": 2048000,
      "rowLimit": 10000
     },
     "inputWidgets": {},
     "nuid": "7c69a28e-cb0c-4807-9371-7938de0c5da7",
     "showTitle": true,
     "tableResultSettingsMap": {},
     "title": "NUMBER_OF_ROWS"
    }
   },
   "outputs": [],
   "source": [
    "NUMBER_OF_ROWS = 5"
   ]
  },
  {
   "cell_type": "markdown",
   "metadata": {
    "application/vnd.databricks.v1+cell": {
     "cellMetadata": {
      "byteLimit": 2048000,
      "rowLimit": 10000
     },
     "inputWidgets": {},
     "nuid": "0cc48c90-0f5b-40e8-9855-58e3a19ff6c5",
     "showTitle": false,
     "tableResultSettingsMap": {},
     "title": ""
    }
   },
   "source": [
    "## Quick Test Data Generation\n",
    "Faker python package provides a quick method called profile() to generate a list of user profiles.\n",
    "\n",
    "spark.createDataFrame() is used to store the generated Test Data in memory.\n",
    "Data can be downloaded as csv or excel by clicking the button at the bottom of result.\n",
    "\n",
    "Or, data can be stored in Unity Catalog as delta table (not shown in this notebook).\n",
    "\n",
    "Click on the \"Run cell\" button on the top left corner of cell below to generate test data."
   ]
  },
  {
   "cell_type": "code",
   "execution_count": 0,
   "metadata": {
    "application/vnd.databricks.v1+cell": {
     "cellMetadata": {
      "byteLimit": 2048000,
      "rowLimit": 10000
     },
     "inputWidgets": {},
     "nuid": "966e4d1e-aeec-4e8d-bdbd-4eec02a374b7",
     "showTitle": true,
     "tableResultSettingsMap": {},
     "title": "fake.profile()"
    }
   },
   "outputs": [
    {
     "output_type": "display_data",
     "data": {
      "text/html": [
       "<style scoped>\n",
       "  .table-result-container {\n",
       "    max-height: 300px;\n",
       "    overflow: auto;\n",
       "  }\n",
       "  table, th, td {\n",
       "    border: 1px solid black;\n",
       "    border-collapse: collapse;\n",
       "  }\n",
       "  th, td {\n",
       "    padding: 5px;\n",
       "  }\n",
       "  th {\n",
       "    text-align: left;\n",
       "  }\n",
       "</style><div class='table-result-container'><table class='table-result'><thead style='background-color: white'><tr><th>address</th><th>birthdate</th><th>blood_group</th><th>company</th><th>current_location</th><th>job</th><th>mail</th><th>name</th><th>residence</th><th>sex</th><th>ssn</th><th>username</th><th>website</th></tr></thead><tbody><tr><td>471 Erika Curve\n",
       "North Megan, SK X4L4X7</td><td>1980-09-17</td><td>A+</td><td>Williams-Sheppard</td><td>List(-64.962524500000000000, 34.116758000000000000)</td><td>Musician</td><td>shannon51@yahoo.com</td><td>Robert Stewart</td><td>19489 Kyle Stream Apt. 578\n",
       "West Ryanborough, ON T1X9L1</td><td>M</td><td>738 137 405</td><td>kellylopez</td><td>List(https://www.nguyen.org/, http://www.pratt.com/, http://bolton.com/, http://harris.com/)</td></tr><tr><td>22584 Candice Mills\n",
       "North Thomas, NS P3R9L1</td><td>1914-12-06</td><td>O-</td><td>Mccoy, Bruce and Sanchez</td><td>List(-40.346973500000000000, -113.484289000000000000)</td><td>Radiographer, therapeutic</td><td>vharmon@hotmail.com</td><td>Melissa Myers</td><td>30989 Anthony Roads\n",
       "New Maria, BC C1P1E4</td><td>F</td><td>455 823 344</td><td>michael79</td><td>List(http://www.coleman.com/, http://graham-brown.info/)</td></tr><tr><td>30089 James Rest Apt. 442\n",
       "South Melissafurt, QC A2L 5T3</td><td>1914-07-15</td><td>A+</td><td>Allen Group</td><td>List(51.619332500000000000, 81.598724000000000000)</td><td>Health visitor</td><td>darin24@gmail.com</td><td>Tonya Irwin</td><td>109 Holly Estate Apt. 376\n",
       "Johnsonshire, NS H5T 3C8</td><td>F</td><td>528 175 664</td><td>valeriemorales</td><td>List(https://monroe-williams.biz/)</td></tr><tr><td>33060 Phillip Path\n",
       "Shanefort, YT S4C 5P3</td><td>2004-12-23</td><td>A+</td><td>Green, Edwards and Richardson</td><td>List(38.329506500000000000, -51.308777000000000000)</td><td>Engineer, land</td><td>hlee@gmail.com</td><td>Michael Moore</td><td>402 Joseph Junction Suite 159\n",
       "North Josephberg, PE P3R5Y2</td><td>M</td><td>085 332 146</td><td>courtneybennett</td><td>List(http://www.powell-murphy.biz/, http://www.kerr.com/, http://lyons.com/)</td></tr><tr><td>20407 Atkins Union\n",
       "Port Diana, NT X2X9B2</td><td>1971-09-27</td><td>B-</td><td>Hayes, Rhodes and Wilson</td><td>List(55.709200000000000000, 147.368102000000000000)</td><td>Air broker</td><td>nbullock@yahoo.com</td><td>Lauren Robbins</td><td>6582 Vanessa Oval\n",
       "New Richard, QC X8V8N4</td><td>F</td><td>621 704 287</td><td>fjones</td><td>List(https://johnson-hernandez.com/)</td></tr></tbody></table></div>"
      ]
     },
     "metadata": {
      "application/vnd.databricks.v1+output": {
       "addedWidgets": {},
       "aggData": [],
       "aggError": "",
       "aggOverflow": false,
       "aggSchema": [],
       "aggSeriesLimitReached": false,
       "aggType": "",
       "arguments": {},
       "columnCustomDisplayInfos": {},
       "data": [
        [
         "471 Erika Curve\nNorth Megan, SK X4L4X7",
         "1980-09-17",
         "A+",
         "Williams-Sheppard",
         [
          "-64.962524500000000000",
          "34.116758000000000000"
         ],
         "Musician",
         "shannon51@yahoo.com",
         "Robert Stewart",
         "19489 Kyle Stream Apt. 578\nWest Ryanborough, ON T1X9L1",
         "M",
         "738 137 405",
         "kellylopez",
         [
          "https://www.nguyen.org/",
          "http://www.pratt.com/",
          "http://bolton.com/",
          "http://harris.com/"
         ]
        ],
        [
         "22584 Candice Mills\nNorth Thomas, NS P3R9L1",
         "1914-12-06",
         "O-",
         "Mccoy, Bruce and Sanchez",
         [
          "-40.346973500000000000",
          "-113.484289000000000000"
         ],
         "Radiographer, therapeutic",
         "vharmon@hotmail.com",
         "Melissa Myers",
         "30989 Anthony Roads\nNew Maria, BC C1P1E4",
         "F",
         "455 823 344",
         "michael79",
         [
          "http://www.coleman.com/",
          "http://graham-brown.info/"
         ]
        ],
        [
         "30089 James Rest Apt. 442\nSouth Melissafurt, QC A2L 5T3",
         "1914-07-15",
         "A+",
         "Allen Group",
         [
          "51.619332500000000000",
          "81.598724000000000000"
         ],
         "Health visitor",
         "darin24@gmail.com",
         "Tonya Irwin",
         "109 Holly Estate Apt. 376\nJohnsonshire, NS H5T 3C8",
         "F",
         "528 175 664",
         "valeriemorales",
         [
          "https://monroe-williams.biz/"
         ]
        ],
        [
         "33060 Phillip Path\nShanefort, YT S4C 5P3",
         "2004-12-23",
         "A+",
         "Green, Edwards and Richardson",
         [
          "38.329506500000000000",
          "-51.308777000000000000"
         ],
         "Engineer, land",
         "hlee@gmail.com",
         "Michael Moore",
         "402 Joseph Junction Suite 159\nNorth Josephberg, PE P3R5Y2",
         "M",
         "085 332 146",
         "courtneybennett",
         [
          "http://www.powell-murphy.biz/",
          "http://www.kerr.com/",
          "http://lyons.com/"
         ]
        ],
        [
         "20407 Atkins Union\nPort Diana, NT X2X9B2",
         "1971-09-27",
         "B-",
         "Hayes, Rhodes and Wilson",
         [
          "55.709200000000000000",
          "147.368102000000000000"
         ],
         "Air broker",
         "nbullock@yahoo.com",
         "Lauren Robbins",
         "6582 Vanessa Oval\nNew Richard, QC X8V8N4",
         "F",
         "621 704 287",
         "fjones",
         [
          "https://johnson-hernandez.com/"
         ]
        ]
       ],
       "datasetInfos": [],
       "dbfsResultPath": null,
       "isJsonSchema": true,
       "metadata": {},
       "overflow": false,
       "plotOptions": {
        "customPlotOptions": {},
        "displayType": "table",
        "pivotAggregation": null,
        "pivotColumns": null,
        "xColumns": null,
        "yColumns": null
       },
       "removedWidgets": [],
       "schema": [
        {
         "metadata": "{}",
         "name": "address",
         "type": "\"string\""
        },
        {
         "metadata": "{}",
         "name": "birthdate",
         "type": "\"date\""
        },
        {
         "metadata": "{}",
         "name": "blood_group",
         "type": "\"string\""
        },
        {
         "metadata": "{}",
         "name": "company",
         "type": "\"string\""
        },
        {
         "metadata": "{}",
         "name": "current_location",
         "type": "{\"fields\":[{\"metadata\":{},\"name\":\"_1\",\"nullable\":true,\"type\":\"decimal(38,18)\"},{\"metadata\":{},\"name\":\"_2\",\"nullable\":true,\"type\":\"decimal(38,18)\"}],\"type\":\"struct\"}"
        },
        {
         "metadata": "{}",
         "name": "job",
         "type": "\"string\""
        },
        {
         "metadata": "{}",
         "name": "mail",
         "type": "\"string\""
        },
        {
         "metadata": "{}",
         "name": "name",
         "type": "\"string\""
        },
        {
         "metadata": "{}",
         "name": "residence",
         "type": "\"string\""
        },
        {
         "metadata": "{}",
         "name": "sex",
         "type": "\"string\""
        },
        {
         "metadata": "{}",
         "name": "ssn",
         "type": "\"string\""
        },
        {
         "metadata": "{}",
         "name": "username",
         "type": "\"string\""
        },
        {
         "metadata": "{}",
         "name": "website",
         "type": "{\"containsNull\":true,\"elementType\":\"string\",\"type\":\"array\"}"
        }
       ],
       "type": "table"
      }
     },
     "output_type": "display_data"
    }
   ],
   "source": [
    "from faker import Faker\n",
    "\n",
    "Faker.seed(0)\n",
    "fake = Faker(\"en_CA\")\n",
    "\n",
    "data = [fake.profile() for _ in range(NUMBER_OF_ROWS)]\n",
    "\n",
    "df = spark.createDataFrame(data=data)\n",
    "display(df)"
   ]
  },
  {
   "cell_type": "markdown",
   "metadata": {
    "application/vnd.databricks.v1+cell": {
     "cellMetadata": {},
     "inputWidgets": {},
     "nuid": "541b9293-bef2-4a2a-a9d0-fa59e928aa06",
     "showTitle": false,
     "tableResultSettingsMap": {},
     "title": ""
    }
   },
   "source": [
    "## Customized Test Data Generation\n",
    "The cell below contains python code to generate Test Data based on the requirements below:\n",
    "\n",
    "| Seq | Columns | Meaning | Example |\n",
    "| :------- | :------: | -------: | -------: |\n",
    "| 1 | Member_ID | Unique Identifier prefix with MID and six numeric from 111111 to 999999 | MID123456 |\n",
    "| 2 | Role | 5% of chance = Director <br> 15% of chance = Music Composer <br> 20% of chance = Background Artist <br> 30% of chance = Character Design <br> 30% of chance = Voice Acting | Voice Acting |\n",
    "| 3 | User_Name | Random Unique name without space | dhzoey |\n",
    "| 4 | First_Name | Random Canadian English First Name | Celine |\n",
    "| 5 | Last_Name | Random Canadian English Last Name | Myers |\n",
    "| 6 | Birth_Date | Birth Date between Age of 18 to 65 as of this year | 1982-07-02 |\n",
    "| 7 | SIN | Random 9 digit numeric mimic Canadian SIN | 774 564 306 |\n",
    "| 8 | Pronounce | Random selection of either \"He/Him\", \"She/Her\", \"They/Them\" | They/Them |\n",
    "| 9 | Dream_Job | Random occupation name | Fashion designer |\n",
    "| 10 | Start_Date | A random date from yesterday to 10 years ago | 2023-08-15 |\n",
    "| 11 | Phone_Number | A random fake Canadian phone number | (492) 411-5781 x565 |\n",
    "| 12 | Mailing_Address | A random fake Canadian address | 408 Christopher Ville Suite 097 Johnmouth, SK J3K 9K8 |\n",
    "| 13 | Office_Address | Random Street Address, <br> Random selection of either \"Toronto\", \"Vaughan\", or \"Guelph\", <br> Harcoded ON as province, <br> Random Postal Code | 58714 Mann Plaza, Toronto ON Y2M 7T6 |\n",
    "\n",
    "spark.createDataFrame() is used to store the generated Test Data in memory as spark DataFrame format.\n",
    "Data can be downloaded as csv or excel by clicking the button at the bottom of result.\n",
    "\n",
    "Or, data can be stored in Unity Catalog as delta table (not shown in this notebook).\n",
    "\n",
    "Click on the \"Run cell\" button on the top left corner of cell below to generate test data."
   ]
  },
  {
   "cell_type": "code",
   "execution_count": 0,
   "metadata": {
    "application/vnd.databricks.v1+cell": {
     "cellMetadata": {
      "byteLimit": 2048000,
      "rowLimit": 10000
     },
     "inputWidgets": {},
     "nuid": "a353eaf4-2963-44db-bc05-125769ab5e47",
     "showTitle": false,
     "tableResultSettingsMap": {
      "0": {
       "dataGridStateBlob": "{\"version\":1,\"tableState\":{\"columnPinning\":{\"left\":[\"#row_number#\"],\"right\":[]},\"columnSizing\":{},\"columnVisibility\":{}},\"settings\":{\"columns\":{}},\"syncTimestamp\":1755474082142}",
       "filterBlob": null,
       "queryPlanFiltersBlob": null,
       "tableResultIndex": 0
      }
     },
     "title": ""
    }
   },
   "outputs": [
    {
     "output_type": "display_data",
     "data": {
      "text/html": [
       "<style scoped>\n",
       "  .table-result-container {\n",
       "    max-height: 300px;\n",
       "    overflow: auto;\n",
       "  }\n",
       "  table, th, td {\n",
       "    border: 1px solid black;\n",
       "    border-collapse: collapse;\n",
       "  }\n",
       "  th, td {\n",
       "    padding: 5px;\n",
       "  }\n",
       "  th {\n",
       "    text-align: left;\n",
       "  }\n",
       "</style><div class='table-result-container'><table class='table-result'><thead style='background-color: white'><tr><th>Member_ID</th><th>Role</th><th>User_Name</th><th>First_Name</th><th>Last_Name</th><th>Birth_Date</th><th>SIN</th><th>Pronounce</th><th>Dream_Job</th><th>Start_Date</th><th>Phone_Number</th><th>Mailing_Address</th><th>Office_Address</th></tr></thead><tbody><tr><td>MID996551</td><td>Bacground Artist</td><td>gwilliams</td><td>Todd</td><td>Hull</td><td>1999-06-17</td><td>774 564 306</td><td>He/Him</td><td>Water engineer</td><td>2023-08-15</td><td>(492) 411-5781 x565</td><td>408 Christopher Ville Suite 097\n",
       "Johnmouth, SK J3K 9K8</td><td>58714 Mann Plaza, Toronto ON Y2M 7T6</td></tr><tr><td>MID714724</td><td>Bacground Artist</td><td>jaimelopez</td><td>Chloe</td><td>Douglas</td><td>1982-07-02</td><td>118 056 738</td><td>They/Them</td><td>Fashion designer</td><td>2024-02-14</td><td>+1 (894) 775-1591</td><td>04135 Marvin Via\n",
       "North Kristabury, AB A2E 7J2</td><td>09032 Timothy Stream Apt. 086, Vaughan ON C5K6C7</td></tr><tr><td>MID300188</td><td>Music Composer</td><td>gwilliams</td><td>Holly</td><td>Myers</td><td>1972-02-11</td><td>715 310 868</td><td>He/Him</td><td>Lighting technician, broadcasting/film/video</td><td>2020-12-02</td><td>697.207.6984</td><td>80715 Amy Dale Apt. 759\n",
       "Emilyshire, QC M2R 1S4</td><td>33769 Johnson Well Suite 027, Toronto ON T9X 1V1</td></tr><tr><td>MID629718</td><td>Bacground Artist</td><td>zwilliams</td><td>Robert</td><td>Dunn</td><td>2005-11-07</td><td>110 658 622</td><td>He/Him</td><td>Accountant, chartered</td><td>2025-06-05</td><td>(291) 319-3442 x176</td><td>1428 Wilson Drives Suite 000\n",
       "Lake Jordan, NT B7V6T9</td><td>69402 Joseph Junction, Vaughan ON N5B 3B3</td></tr><tr><td>MID722903</td><td>Bacground Artist</td><td>ihays</td><td>Kelly</td><td>Woods</td><td>1971-02-18</td><td>021 881 669</td><td>She/Her</td><td>Patent examiner</td><td>2016-09-17</td><td>(377) 551-7176 x045</td><td>111 Kara Circle Suite 016\n",
       "Shanefort, YT S4C 5P3</td><td>51108 Goodwin Flats Apt. 764, Toronto ON J4G 8E7</td></tr></tbody></table></div>"
      ]
     },
     "metadata": {
      "application/vnd.databricks.v1+output": {
       "addedWidgets": {},
       "aggData": [],
       "aggError": "",
       "aggOverflow": false,
       "aggSchema": [],
       "aggSeriesLimitReached": false,
       "aggType": "",
       "arguments": {},
       "columnCustomDisplayInfos": {},
       "data": [
        [
         "MID996551",
         "Bacground Artist",
         "gwilliams",
         "Todd",
         "Hull",
         "1999-06-17",
         "774 564 306",
         "He/Him",
         "Water engineer",
         "2023-08-15",
         "(492) 411-5781 x565",
         "408 Christopher Ville Suite 097\nJohnmouth, SK J3K 9K8",
         "58714 Mann Plaza, Toronto ON Y2M 7T6"
        ],
        [
         "MID714724",
         "Bacground Artist",
         "jaimelopez",
         "Chloe",
         "Douglas",
         "1982-07-02",
         "118 056 738",
         "They/Them",
         "Fashion designer",
         "2024-02-14",
         "+1 (894) 775-1591",
         "04135 Marvin Via\nNorth Kristabury, AB A2E 7J2",
         "09032 Timothy Stream Apt. 086, Vaughan ON C5K6C7"
        ],
        [
         "MID300188",
         "Music Composer",
         "gwilliams",
         "Holly",
         "Myers",
         "1972-02-11",
         "715 310 868",
         "He/Him",
         "Lighting technician, broadcasting/film/video",
         "2020-12-02",
         "697.207.6984",
         "80715 Amy Dale Apt. 759\nEmilyshire, QC M2R 1S4",
         "33769 Johnson Well Suite 027, Toronto ON T9X 1V1"
        ],
        [
         "MID629718",
         "Bacground Artist",
         "zwilliams",
         "Robert",
         "Dunn",
         "2005-11-07",
         "110 658 622",
         "He/Him",
         "Accountant, chartered",
         "2025-06-05",
         "(291) 319-3442 x176",
         "1428 Wilson Drives Suite 000\nLake Jordan, NT B7V6T9",
         "69402 Joseph Junction, Vaughan ON N5B 3B3"
        ],
        [
         "MID722903",
         "Bacground Artist",
         "ihays",
         "Kelly",
         "Woods",
         "1971-02-18",
         "021 881 669",
         "She/Her",
         "Patent examiner",
         "2016-09-17",
         "(377) 551-7176 x045",
         "111 Kara Circle Suite 016\nShanefort, YT S4C 5P3",
         "51108 Goodwin Flats Apt. 764, Toronto ON J4G 8E7"
        ]
       ],
       "datasetInfos": [],
       "dbfsResultPath": null,
       "isJsonSchema": true,
       "metadata": {},
       "overflow": false,
       "plotOptions": {
        "customPlotOptions": {},
        "displayType": "table",
        "pivotAggregation": null,
        "pivotColumns": null,
        "xColumns": null,
        "yColumns": null
       },
       "removedWidgets": [],
       "schema": [
        {
         "metadata": "{}",
         "name": "Member_ID",
         "type": "\"string\""
        },
        {
         "metadata": "{}",
         "name": "Role",
         "type": "\"string\""
        },
        {
         "metadata": "{}",
         "name": "User_Name",
         "type": "\"string\""
        },
        {
         "metadata": "{}",
         "name": "First_Name",
         "type": "\"string\""
        },
        {
         "metadata": "{}",
         "name": "Last_Name",
         "type": "\"string\""
        },
        {
         "metadata": "{}",
         "name": "Birth_Date",
         "type": "\"date\""
        },
        {
         "metadata": "{}",
         "name": "SIN",
         "type": "\"string\""
        },
        {
         "metadata": "{}",
         "name": "Pronounce",
         "type": "\"string\""
        },
        {
         "metadata": "{}",
         "name": "Dream_Job",
         "type": "\"string\""
        },
        {
         "metadata": "{}",
         "name": "Start_Date",
         "type": "\"date\""
        },
        {
         "metadata": "{}",
         "name": "Phone_Number",
         "type": "\"string\""
        },
        {
         "metadata": "{}",
         "name": "Mailing_Address",
         "type": "\"string\""
        },
        {
         "metadata": "{}",
         "name": "Office_Address",
         "type": "\"string\""
        }
       ],
       "type": "table"
      }
     },
     "output_type": "display_data"
    }
   ],
   "source": [
    "from faker import Faker\n",
    "from collections import OrderedDict\n",
    "\n",
    "Faker.seed(0)\n",
    "fake = Faker(\"en_CA\")\n",
    "\n",
    "schema=[\n",
    "    \"Member_ID\",\n",
    "    \"Role\",\n",
    "    \"User_Name\",\n",
    "    \"First_Name\",\n",
    "    \"Last_Name\",\n",
    "    \"Birth_Date\",\n",
    "    \"SIN\",\n",
    "    \"Pronounce\",\n",
    "    \"Dream_Job\",\n",
    "    \"Start_Date\",\n",
    "    \"Phone_Number\",\n",
    "    \"Mailing_Address\",\n",
    "    \"Office_Address\",\n",
    "]\n",
    "\n",
    "prefix_mID = 'MID'\n",
    "pronouce_choices = [(\"He/Him\"), (\"She/Her\"), (\"They/Them\")]\n",
    "role_choices = OrderedDict([\n",
    "    (\"Director\", 0.05), \n",
    "    (\"Music Composer\", 0.15), \n",
    "    (\"Background Artist\", 0.20), \n",
    "    (\"Character Design\", 0.30), \n",
    "    (\"Voice Acting\", 0.30)\n",
    "])\n",
    "office_choices = OrderedDict([\n",
    "    (\"Toronto\", 0.60), \n",
    "    (\"Vaughan\", 0.30), \n",
    "    (\"Guelph\", 0.10), \n",
    "])\n",
    "data = []\n",
    "for row in range(NUMBER_OF_ROWS):\n",
    "    data.append(\n",
    "        (\n",
    "            prefix_mID + str(fake.unique.random_int(min=111111, max=999999)),\n",
    "            fake.random_element(role_choices),\n",
    "            fake.user_name(),\n",
    "            fake.first_name(),\n",
    "            fake.last_name(),\n",
    "            fake.date_of_birth(minimum_age=18, maximum_age=65),\n",
    "            fake.ssn(),\n",
    "            fake.random_element(pronouce_choices),\n",
    "            fake.job(),\n",
    "            fake.date_between(start_date='-10y',end_date='-1d'),\n",
    "            fake.phone_number(),\n",
    "            fake.address(), \n",
    "            \"{}, {} ON {}\".format(\n",
    "                fake.street_address(), \n",
    "                fake.random_element(office_choices), \n",
    "                fake.postcode(),         \n",
    "            ),\n",
    "        )\n",
    "    )\n",
    "df = spark.createDataFrame(schema=schema,data=data)\n",
    "display(df)"
   ]
  }
 ],
 "metadata": {
  "application/vnd.databricks.v1+notebook": {
   "computePreferences": {
    "hardware": {
     "accelerator": null,
     "gpuPoolId": null,
     "memory": null
    }
   },
   "dashboards": [],
   "environmentMetadata": {
    "base_environment": "",
    "environment_version": "2"
   },
   "inputWidgetPreferences": null,
   "language": "python",
   "notebookMetadata": {
    "pythonIndentUnit": 4
   },
   "notebookName": "odp fake animation team",
   "widgets": {}
  },
  "language_info": {
   "name": "python"
  }
 },
 "nbformat": 4,
 "nbformat_minor": 0
}